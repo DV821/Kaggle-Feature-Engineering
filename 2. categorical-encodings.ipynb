{
 "cells": [
  {
   "cell_type": "markdown",
   "metadata": {
    "papermill": {
     "duration": 0.019827,
     "end_time": "2021-02-04T05:56:15.404055",
     "exception": false,
     "start_time": "2021-02-04T05:56:15.384228",
     "status": "completed"
    },
    "tags": []
   },
   "source": [
    "# Categorical Encodings"
   ]
  },
  {
   "cell_type": "markdown",
   "metadata": {
    "papermill": {
     "duration": 0.018591,
     "end_time": "2021-02-04T05:56:15.441654",
     "exception": false,
     "start_time": "2021-02-04T05:56:15.423063",
     "status": "completed"
    },
    "tags": []
   },
   "source": [
    "**This notebook is an exercise in the [Feature Engineering](https://www.kaggle.com/learn/feature-engineering) course.  You can reference the tutorial at [this link](https://www.kaggle.com/matleonard/categorical-encodings).**\n",
    "\n",
    "---\n"
   ]
  },
  {
   "cell_type": "markdown",
   "metadata": {
    "papermill": {
     "duration": 0.018707,
     "end_time": "2021-02-04T05:56:15.479482",
     "exception": false,
     "start_time": "2021-02-04T05:56:15.460775",
     "status": "completed"
    },
    "tags": []
   },
   "source": [
    "# Introduction\n",
    "\n",
    "In this exercise you'll apply more advanced encodings to encode the categorical variables ito improve your classifier model. The encodings you will implement are:\n",
    "\n",
    "- Count Encoding\n",
    "- Target Encoding\n",
    "- CatBoost Encoding\n",
    "\n",
    "You'll refit the classifier after each encoding to check its performance on hold-out data. \n",
    "\n",
    "Begin by running the next code cell to set up the notebook."
   ]
  },
  {
   "cell_type": "code",
   "execution_count": 1,
   "metadata": {
    "execution": {
     "iopub.execute_input": "2021-02-04T05:56:15.524229Z",
     "iopub.status.busy": "2021-02-04T05:56:15.523288Z",
     "iopub.status.idle": "2021-02-04T05:56:42.595644Z",
     "shell.execute_reply": "2021-02-04T05:56:42.594657Z"
    },
    "papermill": {
     "duration": 27.097446,
     "end_time": "2021-02-04T05:56:42.595886",
     "exception": false,
     "start_time": "2021-02-04T05:56:15.498440",
     "status": "completed"
    },
    "tags": []
   },
   "outputs": [
    {
     "name": "stderr",
     "output_type": "stream",
     "text": [
      "/opt/conda/lib/python3.7/site-packages/category_encoders/utils.py:21: FutureWarning: is_categorical is deprecated and will be removed in a future version.  Use is_categorical_dtype instead\n",
      "  elif pd.api.types.is_categorical(cols):\n",
      "/opt/conda/lib/python3.7/site-packages/category_encoders/utils.py:21: FutureWarning: is_categorical is deprecated and will be removed in a future version.  Use is_categorical_dtype instead\n",
      "  elif pd.api.types.is_categorical(cols):\n"
     ]
    }
   ],
   "source": [
    "# Set up code checking\n",
    "# This can take a few seconds\n",
    "from learntools.core import binder\n",
    "binder.bind(globals())\n",
    "from learntools.feature_engineering.ex2 import *"
   ]
  },
  {
   "cell_type": "markdown",
   "metadata": {
    "papermill": {
     "duration": 0.023825,
     "end_time": "2021-02-04T05:56:42.645751",
     "exception": false,
     "start_time": "2021-02-04T05:56:42.621926",
     "status": "completed"
    },
    "tags": []
   },
   "source": [
    "The next code cell repeats the work that you did in the previous exercise."
   ]
  },
  {
   "cell_type": "code",
   "execution_count": 2,
   "metadata": {
    "execution": {
     "iopub.execute_input": "2021-02-04T05:56:42.720219Z",
     "iopub.status.busy": "2021-02-04T05:56:42.719085Z",
     "iopub.status.idle": "2021-02-04T05:56:43.220357Z",
     "shell.execute_reply": "2021-02-04T05:56:43.219614Z"
    },
    "papermill": {
     "duration": 0.548485,
     "end_time": "2021-02-04T05:56:43.220495",
     "exception": false,
     "start_time": "2021-02-04T05:56:42.672010",
     "status": "completed"
    },
    "tags": []
   },
   "outputs": [
    {
     "data": {
      "text/html": [
       "<style type='text/css'>\n",
       ".datatable table.frame { margin-bottom: 0; }\n",
       ".datatable table.frame thead { border-bottom: none; }\n",
       ".datatable table.frame tr.coltypes td {  color: #FFFFFF;  line-height: 6px;  padding: 0 0.5em;}\n",
       ".datatable .bool    { background: #DDDD99; }\n",
       ".datatable .object  { background: #565656; }\n",
       ".datatable .int     { background: #5D9E5D; }\n",
       ".datatable .float   { background: #4040CC; }\n",
       ".datatable .str     { background: #CC4040; }\n",
       ".datatable .row_index {  background: var(--jp-border-color3);  border-right: 1px solid var(--jp-border-color0);  color: var(--jp-ui-font-color3);  font-size: 9px;}\n",
       ".datatable .frame tr.coltypes .row_index {  background: var(--jp-border-color0);}\n",
       ".datatable th:nth-child(2) { padding-left: 12px; }\n",
       ".datatable .hellipsis {  color: var(--jp-cell-editor-border-color);}\n",
       ".datatable .vellipsis {  background: var(--jp-layout-color0);  color: var(--jp-cell-editor-border-color);}\n",
       ".datatable .na {  color: var(--jp-cell-editor-border-color);  font-size: 80%;}\n",
       ".datatable .footer { font-size: 9px; }\n",
       ".datatable .frame_dimensions {  background: var(--jp-border-color3);  border-top: 1px solid var(--jp-border-color0);  color: var(--jp-ui-font-color3);  display: inline-block;  opacity: 0.6;  padding: 1px 10px 1px 5px;}\n",
       "</style>\n"
      ],
      "text/plain": [
       "<IPython.core.display.HTML object>"
      ]
     },
     "metadata": {},
     "output_type": "display_data"
    }
   ],
   "source": [
    "import numpy as np\n",
    "import pandas as pd\n",
    "from sklearn import preprocessing, metrics\n",
    "import lightgbm as lgb\n",
    "\n",
    "clicks = pd.read_parquet('../input/feature-engineering-data/baseline_data.pqt')"
   ]
  },
  {
   "cell_type": "markdown",
   "metadata": {
    "papermill": {
     "duration": 0.020542,
     "end_time": "2021-02-04T05:56:43.262970",
     "exception": false,
     "start_time": "2021-02-04T05:56:43.242428",
     "status": "completed"
    },
    "tags": []
   },
   "source": [
    "Next, we define a couple functions that you'll use to test the encodings that you implement in this exercise."
   ]
  },
  {
   "cell_type": "code",
   "execution_count": 3,
   "metadata": {
    "execution": {
     "iopub.execute_input": "2021-02-04T05:56:43.313571Z",
     "iopub.status.busy": "2021-02-04T05:56:43.312894Z",
     "iopub.status.idle": "2021-02-04T05:56:43.320381Z",
     "shell.execute_reply": "2021-02-04T05:56:43.319516Z"
    },
    "papermill": {
     "duration": 0.036661,
     "end_time": "2021-02-04T05:56:43.320558",
     "exception": false,
     "start_time": "2021-02-04T05:56:43.283897",
     "status": "completed"
    },
    "tags": []
   },
   "outputs": [],
   "source": [
    "def get_data_splits(dataframe, valid_fraction=0.1):\n",
    "    \n",
    "    \"\"\"Splits a dataframe into train, validation, and test sets.\n",
    "\n",
    "    First, orders by the column 'click_time'. Set the size of the \n",
    "    validation and test sets with the valid_fraction keyword argument.\n",
    "    \"\"\"\n",
    "\n",
    "    dataframe = dataframe.sort_values('click_time')\n",
    "    valid_rows = int(len(dataframe) * valid_fraction)\n",
    "    train = dataframe[:-valid_rows * 2]\n",
    "    # valid size == test size, last two sections of the data\n",
    "    valid = dataframe[-valid_rows * 2:-valid_rows]\n",
    "    test = dataframe[-valid_rows:]\n",
    "    \n",
    "    return train, valid, test\n",
    "\n",
    "def train_model(train, valid, test=None, feature_cols=None):\n",
    "    if feature_cols is None:\n",
    "        feature_cols = train.columns.drop(['click_time', 'attributed_time',\n",
    "                                           'is_attributed'])\n",
    "    dtrain = lgb.Dataset(train[feature_cols], label=train['is_attributed'])\n",
    "    dvalid = lgb.Dataset(valid[feature_cols], label=valid['is_attributed'])\n",
    "    \n",
    "    param = {'num_leaves': 64, 'objective': 'binary', \n",
    "             'metric': 'auc', 'seed': 7}\n",
    "    num_round = 1000\n",
    "    bst = lgb.train(param, dtrain, num_round, valid_sets=[dvalid], \n",
    "                    early_stopping_rounds=20, verbose_eval=False)\n",
    "    \n",
    "    valid_pred = bst.predict(valid[feature_cols])\n",
    "    valid_score = metrics.roc_auc_score(valid['is_attributed'], valid_pred)\n",
    "    print(f\"Validation AUC score: {valid_score}\")\n",
    "    \n",
    "    if test is not None: \n",
    "        test_pred = bst.predict(test[feature_cols])\n",
    "        test_score = metrics.roc_auc_score(test['is_attributed'], test_pred)\n",
    "        return bst, valid_score, test_score\n",
    "    else:\n",
    "        return bst, valid_score"
   ]
  },
  {
   "cell_type": "markdown",
   "metadata": {
    "papermill": {
     "duration": 0.031167,
     "end_time": "2021-02-04T05:56:43.384330",
     "exception": false,
     "start_time": "2021-02-04T05:56:43.353163",
     "status": "completed"
    },
    "tags": []
   },
   "source": [
    "Run this cell to get a baseline score. "
   ]
  },
  {
   "cell_type": "code",
   "execution_count": 4,
   "metadata": {
    "execution": {
     "iopub.execute_input": "2021-02-04T05:56:43.454061Z",
     "iopub.status.busy": "2021-02-04T05:56:43.453230Z",
     "iopub.status.idle": "2021-02-04T05:57:34.733333Z",
     "shell.execute_reply": "2021-02-04T05:57:34.733824Z"
    },
    "papermill": {
     "duration": 51.317889,
     "end_time": "2021-02-04T05:57:34.733986",
     "exception": false,
     "start_time": "2021-02-04T05:56:43.416097",
     "status": "completed"
    },
    "tags": []
   },
   "outputs": [
    {
     "name": "stdout",
     "output_type": "stream",
     "text": [
      "Baseline model\n",
      "[LightGBM] [Info] Number of positive: 363974, number of negative: 1476475\n",
      "[LightGBM] [Warning] Auto-choosing row-wise multi-threading, the overhead of testing was 0.057365 seconds.\n",
      "You can set `force_row_wise=true` to remove the overhead.\n",
      "And if memory is not enough, you can set `force_col_wise=true`.\n",
      "[LightGBM] [Info] Total Bins 1039\n",
      "[LightGBM] [Info] Number of data points in the train set: 1840449, number of used features: 9\n",
      "[LightGBM] [Info] [binary:BoostFromScore]: pavg=0.197764 -> initscore=-1.400330\n",
      "[LightGBM] [Info] Start training from score -1.400330\n",
      "Validation AUC score: 0.9621485832146418\n"
     ]
    }
   ],
   "source": [
    "print(\"Baseline model\")\n",
    "train, valid, test = get_data_splits(clicks)\n",
    "_ = train_model(train, valid)"
   ]
  },
  {
   "cell_type": "markdown",
   "metadata": {
    "papermill": {
     "duration": 0.022035,
     "end_time": "2021-02-04T05:57:34.778254",
     "exception": false,
     "start_time": "2021-02-04T05:57:34.756219",
     "status": "completed"
    },
    "tags": []
   },
   "source": [
    "### 1) Categorical encodings and leakage\n",
    "\n",
    "These encodings are all based on statistics calculated from the dataset like counts and means. \n",
    "\n",
    "Considering this, what data should you be using to calculate the encodings?  Specifically, can you use the validation data?  Can you use the test data?\n",
    "\n",
    "Run the following line after you've decided your answer."
   ]
  },
  {
   "cell_type": "code",
   "execution_count": 5,
   "metadata": {
    "execution": {
     "iopub.execute_input": "2021-02-04T05:57:34.825918Z",
     "iopub.status.busy": "2021-02-04T05:57:34.825346Z",
     "iopub.status.idle": "2021-02-04T05:57:34.831467Z",
     "shell.execute_reply": "2021-02-04T05:57:34.831908Z"
    },
    "papermill": {
     "duration": 0.031339,
     "end_time": "2021-02-04T05:57:34.832070",
     "exception": false,
     "start_time": "2021-02-04T05:57:34.800731",
     "status": "completed"
    },
    "tags": []
   },
   "outputs": [
    {
     "data": {
      "application/javascript": [
       "parent.postMessage({\"jupyterEvent\": \"custom.exercise_interaction\", \"data\": {\"interactionType\": 3, \"questionType\": 4, \"questionId\": \"1_LeakageQuestion\", \"learnToolsVersion\": \"0.3.4\", \"valueTowardsCompletion\": 0.0, \"failureMessage\": \"\", \"exceptionClass\": \"\", \"trace\": \"\", \"outcomeType\": 4}}, \"*\")"
      ],
      "text/plain": [
       "<IPython.core.display.Javascript object>"
      ]
     },
     "metadata": {},
     "output_type": "display_data"
    },
    {
     "data": {
      "text/markdown": [
       "<span style=\"color:#33cc99\">Solution:</span> You should calculate the encodings from the training set only. If you include data from the validation and test sets into the encodings, you'll overestimate the model's performance. You should in general be vigilant to avoid leakage, that is, including any information from the validation and test sets into the model. For a review on this topic, see our lesson on [data leakage](https://www.kaggle.com/alexisbcook/data-leakage)"
      ],
      "text/plain": [
       "Solution: You should calculate the encodings from the training set only. If you include data from the validation and test sets into the encodings, you'll overestimate the model's performance. You should in general be vigilant to avoid leakage, that is, including any information from the validation and test sets into the model. For a review on this topic, see our lesson on [data leakage](https://www.kaggle.com/alexisbcook/data-leakage)"
      ]
     },
     "metadata": {},
     "output_type": "display_data"
    }
   ],
   "source": [
    "# Check your answer (Run this code cell to receive credit!)\n",
    "q_1.solution()"
   ]
  },
  {
   "cell_type": "markdown",
   "metadata": {
    "papermill": {
     "duration": 0.02277,
     "end_time": "2021-02-04T05:57:34.878237",
     "exception": false,
     "start_time": "2021-02-04T05:57:34.855467",
     "status": "completed"
    },
    "tags": []
   },
   "source": [
    "### 2) Count encodings\n",
    "\n",
    "Begin by running the next code cell to get started."
   ]
  },
  {
   "cell_type": "code",
   "execution_count": 6,
   "metadata": {
    "execution": {
     "iopub.execute_input": "2021-02-04T05:57:34.929733Z",
     "iopub.status.busy": "2021-02-04T05:57:34.929143Z",
     "iopub.status.idle": "2021-02-04T05:57:35.174943Z",
     "shell.execute_reply": "2021-02-04T05:57:35.173932Z"
    },
    "papermill": {
     "duration": 0.273847,
     "end_time": "2021-02-04T05:57:35.175151",
     "exception": false,
     "start_time": "2021-02-04T05:57:34.901304",
     "status": "completed"
    },
    "tags": []
   },
   "outputs": [],
   "source": [
    "import category_encoders as ce\n",
    "\n",
    "cat_features = ['ip', 'app', 'device', 'os', 'channel']\n",
    "train, valid, test = get_data_splits(clicks)"
   ]
  },
  {
   "cell_type": "markdown",
   "metadata": {
    "papermill": {
     "duration": 0.023213,
     "end_time": "2021-02-04T05:57:35.227665",
     "exception": false,
     "start_time": "2021-02-04T05:57:35.204452",
     "status": "completed"
    },
    "tags": []
   },
   "source": [
    "Next, encode the categorical features `['ip', 'app', 'device', 'os', 'channel']` using the count of each value in the data set. \n",
    "- Using `CountEncoder` from the `category_encoders` library, fit the encoding using the categorical feature columns defined in `cat_features`. \n",
    "- Then apply the encodings to the train and validation sets, adding them as new columns with names suffixed `\"_count\"`."
   ]
  },
  {
   "cell_type": "code",
   "execution_count": 7,
   "metadata": {
    "execution": {
     "iopub.execute_input": "2021-02-04T05:57:35.297179Z",
     "iopub.status.busy": "2021-02-04T05:57:35.296504Z",
     "iopub.status.idle": "2021-02-04T05:57:36.594762Z",
     "shell.execute_reply": "2021-02-04T05:57:36.594024Z"
    },
    "papermill": {
     "duration": 1.343418,
     "end_time": "2021-02-04T05:57:36.594943",
     "exception": false,
     "start_time": "2021-02-04T05:57:35.251525",
     "status": "completed"
    },
    "tags": []
   },
   "outputs": [
    {
     "name": "stderr",
     "output_type": "stream",
     "text": [
      "/opt/conda/lib/python3.7/site-packages/category_encoders/utils.py:21: FutureWarning: is_categorical is deprecated and will be removed in a future version.  Use is_categorical_dtype instead\n",
      "  elif pd.api.types.is_categorical(cols):\n"
     ]
    },
    {
     "data": {
      "application/javascript": [
       "parent.postMessage({\"jupyterEvent\": \"custom.exercise_interaction\", \"data\": {\"outcomeType\": 1, \"valueTowardsCompletion\": 0.125, \"interactionType\": 1, \"questionType\": 1, \"questionId\": \"2_CountEncodings\", \"learnToolsVersion\": \"0.3.4\", \"failureMessage\": \"\", \"exceptionClass\": \"\", \"trace\": \"\"}}, \"*\")"
      ],
      "text/plain": [
       "<IPython.core.display.Javascript object>"
      ]
     },
     "metadata": {},
     "output_type": "display_data"
    },
    {
     "data": {
      "text/markdown": [
       "<span style=\"color:#33cc33\">Correct</span>"
      ],
      "text/plain": [
       "Correct"
      ]
     },
     "metadata": {},
     "output_type": "display_data"
    }
   ],
   "source": [
    "# Create the count encoder\n",
    "count_enc= ce.CountEncoder(cols=cat_features)\n",
    "\n",
    "# Learn encoding from the training set\n",
    "count_enc.fit(train[cat_features])\n",
    "\n",
    "# Apply encoding to the train and validation sets as new columns\n",
    "# Make sure to add `_count` as a suffix to the new columns\n",
    "train_encoded = train.join(count_enc.transform(train[cat_features]).add_suffix(\"_count\"))\n",
    "valid_encoded = valid.join(count_enc.transform(valid[cat_features]).add_suffix(\"_count\"))\n",
    "\n",
    "# Check your answer\n",
    "q_2.check()"
   ]
  },
  {
   "cell_type": "code",
   "execution_count": 8,
   "metadata": {
    "execution": {
     "iopub.execute_input": "2021-02-04T05:57:36.677542Z",
     "iopub.status.busy": "2021-02-04T05:57:36.676882Z",
     "iopub.status.idle": "2021-02-04T05:57:36.678913Z",
     "shell.execute_reply": "2021-02-04T05:57:36.679455Z"
    },
    "papermill": {
     "duration": 0.045627,
     "end_time": "2021-02-04T05:57:36.679624",
     "exception": false,
     "start_time": "2021-02-04T05:57:36.633997",
     "status": "completed"
    },
    "tags": []
   },
   "outputs": [],
   "source": [
    "# Uncomment if you need some guidance\n",
    "#q_2.hint()\n",
    "#q_2.solution()"
   ]
  },
  {
   "cell_type": "markdown",
   "metadata": {
    "papermill": {
     "duration": 0.024905,
     "end_time": "2021-02-04T05:57:36.729741",
     "exception": false,
     "start_time": "2021-02-04T05:57:36.704836",
     "status": "completed"
    },
    "tags": []
   },
   "source": [
    "Run the next code cell to see how count encoding changes the results."
   ]
  },
  {
   "cell_type": "code",
   "execution_count": 9,
   "metadata": {
    "execution": {
     "iopub.execute_input": "2021-02-04T05:57:36.787187Z",
     "iopub.status.busy": "2021-02-04T05:57:36.786532Z",
     "iopub.status.idle": "2021-02-04T05:58:35.568268Z",
     "shell.execute_reply": "2021-02-04T05:58:35.569517Z"
    },
    "papermill": {
     "duration": 58.814429,
     "end_time": "2021-02-04T05:58:35.569798",
     "exception": false,
     "start_time": "2021-02-04T05:57:36.755369",
     "status": "completed"
    },
    "tags": []
   },
   "outputs": [
    {
     "name": "stdout",
     "output_type": "stream",
     "text": [
      "[LightGBM] [Info] Number of positive: 363974, number of negative: 1476475\n",
      "[LightGBM] [Warning] Auto-choosing col-wise multi-threading, the overhead of testing was 0.292740 seconds.\n",
      "You can set `force_col_wise=true` to remove the overhead.\n",
      "[LightGBM] [Info] Total Bins 1878\n",
      "[LightGBM] [Info] Number of data points in the train set: 1840449, number of used features: 14\n",
      "[LightGBM] [Info] [binary:BoostFromScore]: pavg=0.197764 -> initscore=-1.400330\n",
      "[LightGBM] [Info] Start training from score -1.400330\n",
      "Validation AUC score: 0.9651119948976146\n"
     ]
    }
   ],
   "source": [
    "# Train the model on the encoded datasets\n",
    "# This can take around 30 seconds to complete\n",
    "_ = train_model(train_encoded, valid_encoded)"
   ]
  },
  {
   "cell_type": "markdown",
   "metadata": {
    "papermill": {
     "duration": 0.026974,
     "end_time": "2021-02-04T05:58:35.625364",
     "exception": false,
     "start_time": "2021-02-04T05:58:35.598390",
     "status": "completed"
    },
    "tags": []
   },
   "source": [
    "Count encoding improved our model's score!"
   ]
  },
  {
   "cell_type": "markdown",
   "metadata": {
    "papermill": {
     "duration": 0.026291,
     "end_time": "2021-02-04T05:58:35.678971",
     "exception": false,
     "start_time": "2021-02-04T05:58:35.652680",
     "status": "completed"
    },
    "tags": []
   },
   "source": [
    "### 3) Why is count encoding effective?\n",
    "At first glance, it could be surprising that count encoding helps make accurate models. \n",
    "Why do you think is count encoding is a good idea, or how does it improve the model score?\n",
    "\n",
    "Run the following line after you've decided your answer."
   ]
  },
  {
   "cell_type": "code",
   "execution_count": 10,
   "metadata": {
    "execution": {
     "iopub.execute_input": "2021-02-04T05:58:35.736499Z",
     "iopub.status.busy": "2021-02-04T05:58:35.735787Z",
     "iopub.status.idle": "2021-02-04T05:58:35.745407Z",
     "shell.execute_reply": "2021-02-04T05:58:35.745904Z"
    },
    "papermill": {
     "duration": 0.040077,
     "end_time": "2021-02-04T05:58:35.746084",
     "exception": false,
     "start_time": "2021-02-04T05:58:35.706007",
     "status": "completed"
    },
    "tags": []
   },
   "outputs": [
    {
     "data": {
      "application/javascript": [
       "parent.postMessage({\"jupyterEvent\": \"custom.exercise_interaction\", \"data\": {\"interactionType\": 3, \"questionType\": 4, \"questionId\": \"3_CountEncodingEffectiveness\", \"learnToolsVersion\": \"0.3.4\", \"valueTowardsCompletion\": 0.0, \"failureMessage\": \"\", \"exceptionClass\": \"\", \"trace\": \"\", \"outcomeType\": 4}}, \"*\")"
      ],
      "text/plain": [
       "<IPython.core.display.Javascript object>"
      ]
     },
     "metadata": {},
     "output_type": "display_data"
    },
    {
     "data": {
      "text/markdown": [
       "<span style=\"color:#33cc99\">Solution:</span> \n",
       "    Rare values tend to have similar counts (with values like 1 or 2), so you can classify rare \n",
       "    values together at prediction time. Common values with large counts are unlikely to have \n",
       "    the same exact count as other values. So, the common/important values get their own \n",
       "    grouping.\n",
       "    "
      ],
      "text/plain": [
       "Solution: \n",
       "    Rare values tend to have similar counts (with values like 1 or 2), so you can classify rare \n",
       "    values together at prediction time. Common values with large counts are unlikely to have \n",
       "    the same exact count as other values. So, the common/important values get their own \n",
       "    grouping.\n",
       "    "
      ]
     },
     "metadata": {},
     "output_type": "display_data"
    }
   ],
   "source": [
    "# Check your answer (Run this code cell to receive credit!)\n",
    "q_3.solution()"
   ]
  },
  {
   "cell_type": "markdown",
   "metadata": {
    "papermill": {
     "duration": 0.027518,
     "end_time": "2021-02-04T05:58:35.802303",
     "exception": false,
     "start_time": "2021-02-04T05:58:35.774785",
     "status": "completed"
    },
    "tags": []
   },
   "source": [
    "### 4) Target encoding\n",
    "\n",
    "Here you'll try some supervised encodings that use the labels (the targets) to transform categorical features. The first one is target encoding. \n",
    "- Create the target encoder from the `category_encoders` library. \n",
    "- Then, learn the encodings from the training dataset, apply the encodings to all the datasets, and retrain the model."
   ]
  },
  {
   "cell_type": "code",
   "execution_count": 11,
   "metadata": {
    "execution": {
     "iopub.execute_input": "2021-02-04T05:58:35.861014Z",
     "iopub.status.busy": "2021-02-04T05:58:35.860373Z",
     "iopub.status.idle": "2021-02-04T05:58:41.230765Z",
     "shell.execute_reply": "2021-02-04T05:58:41.229973Z"
    },
    "papermill": {
     "duration": 5.401113,
     "end_time": "2021-02-04T05:58:41.230915",
     "exception": false,
     "start_time": "2021-02-04T05:58:35.829802",
     "status": "completed"
    },
    "tags": []
   },
   "outputs": [
    {
     "name": "stderr",
     "output_type": "stream",
     "text": [
      "/opt/conda/lib/python3.7/site-packages/category_encoders/utils.py:21: FutureWarning: is_categorical is deprecated and will be removed in a future version.  Use is_categorical_dtype instead\n",
      "  elif pd.api.types.is_categorical(cols):\n"
     ]
    },
    {
     "data": {
      "application/javascript": [
       "parent.postMessage({\"jupyterEvent\": \"custom.exercise_interaction\", \"data\": {\"outcomeType\": 1, \"valueTowardsCompletion\": 0.125, \"interactionType\": 1, \"questionType\": 1, \"questionId\": \"4_TargetEncodings\", \"learnToolsVersion\": \"0.3.4\", \"failureMessage\": \"\", \"exceptionClass\": \"\", \"trace\": \"\"}}, \"*\")"
      ],
      "text/plain": [
       "<IPython.core.display.Javascript object>"
      ]
     },
     "metadata": {},
     "output_type": "display_data"
    },
    {
     "data": {
      "text/markdown": [
       "<span style=\"color:#33cc33\">Correct</span>"
      ],
      "text/plain": [
       "Correct"
      ]
     },
     "metadata": {},
     "output_type": "display_data"
    }
   ],
   "source": [
    "# Create the target encoder. You can find this easily by using tab completion.\n",
    "# Start typing ce. the press Tab to bring up a list of classes and functions.\n",
    "target_enc = ce.TargetEncoder(cols=cat_features)\n",
    "\n",
    "# Learn encoding from the training set. Use the 'is_attributed' column as the target.\n",
    "t_encoded = target_enc.fit(train[cat_features],train['is_attributed'])\n",
    "\n",
    "# Apply encoding to the train and validation sets as new columns\n",
    "# Make sure to add `_target` as a suffix to the new columns\n",
    "train_encoded = train.join(t_encoded.transform(train[cat_features]).add_suffix('_target'))\n",
    "valid_encoded = valid.join(t_encoded.transform(valid[cat_features]).add_suffix('_target'))\n",
    "\n",
    "# Check your answer\n",
    "q_4.check()"
   ]
  },
  {
   "cell_type": "code",
   "execution_count": 12,
   "metadata": {
    "execution": {
     "iopub.execute_input": "2021-02-04T05:58:41.298727Z",
     "iopub.status.busy": "2021-02-04T05:58:41.297913Z",
     "iopub.status.idle": "2021-02-04T05:58:41.302026Z",
     "shell.execute_reply": "2021-02-04T05:58:41.302520Z"
    },
    "papermill": {
     "duration": 0.040496,
     "end_time": "2021-02-04T05:58:41.302687",
     "exception": false,
     "start_time": "2021-02-04T05:58:41.262191",
     "status": "completed"
    },
    "tags": []
   },
   "outputs": [],
   "source": [
    "# Uncomment these if you need some guidance\n",
    "#q_4.hint()\n",
    "#q_4.solution()"
   ]
  },
  {
   "cell_type": "markdown",
   "metadata": {
    "papermill": {
     "duration": 0.028646,
     "end_time": "2021-02-04T05:58:41.360328",
     "exception": false,
     "start_time": "2021-02-04T05:58:41.331682",
     "status": "completed"
    },
    "tags": []
   },
   "source": [
    "Run the next cell to see how target encoding affects your results."
   ]
  },
  {
   "cell_type": "code",
   "execution_count": 13,
   "metadata": {
    "execution": {
     "iopub.execute_input": "2021-02-04T05:58:41.426833Z",
     "iopub.status.busy": "2021-02-04T05:58:41.425982Z",
     "iopub.status.idle": "2021-02-04T05:58:51.273979Z",
     "shell.execute_reply": "2021-02-04T05:58:51.272345Z"
    },
    "papermill": {
     "duration": 9.884876,
     "end_time": "2021-02-04T05:58:51.274258",
     "exception": false,
     "start_time": "2021-02-04T05:58:41.389382",
     "status": "completed"
    },
    "tags": []
   },
   "outputs": [
    {
     "name": "stdout",
     "output_type": "stream",
     "text": [
      "[LightGBM] [Info] Number of positive: 363974, number of negative: 1476475\n",
      "[LightGBM] [Warning] Auto-choosing col-wise multi-threading, the overhead of testing was 0.289746 seconds.\n",
      "You can set `force_col_wise=true` to remove the overhead.\n",
      "[LightGBM] [Info] Total Bins 1919\n",
      "[LightGBM] [Info] Number of data points in the train set: 1840449, number of used features: 14\n",
      "[LightGBM] [Info] [binary:BoostFromScore]: pavg=0.197764 -> initscore=-1.400330\n",
      "[LightGBM] [Info] Start training from score -1.400330\n",
      "Validation AUC score: 0.9540530347873288\n"
     ]
    }
   ],
   "source": [
    "_ = train_model(train_encoded, valid_encoded)"
   ]
  },
  {
   "cell_type": "markdown",
   "metadata": {
    "papermill": {
     "duration": 0.030634,
     "end_time": "2021-02-04T05:58:51.336007",
     "exception": false,
     "start_time": "2021-02-04T05:58:51.305373",
     "status": "completed"
    },
    "tags": []
   },
   "source": [
    "### 5) Try removing IP encoding\n",
    "\n",
    "If you leave `ip` out of the encoded features and retrain the model with target encoding, you should find that the score increases and is above the baseline score! Why do you think the score is below baseline when we encode the IP address but above baseline when we don't?\n",
    "\n",
    "Run the following line after you've decided your answer."
   ]
  },
  {
   "cell_type": "code",
   "execution_count": 14,
   "metadata": {
    "execution": {
     "iopub.execute_input": "2021-02-04T05:58:51.405048Z",
     "iopub.status.busy": "2021-02-04T05:58:51.404386Z",
     "iopub.status.idle": "2021-02-04T05:58:51.410141Z",
     "shell.execute_reply": "2021-02-04T05:58:51.410766Z"
    },
    "papermill": {
     "duration": 0.044036,
     "end_time": "2021-02-04T05:58:51.410935",
     "exception": false,
     "start_time": "2021-02-04T05:58:51.366899",
     "status": "completed"
    },
    "tags": []
   },
   "outputs": [
    {
     "data": {
      "application/javascript": [
       "parent.postMessage({\"jupyterEvent\": \"custom.exercise_interaction\", \"data\": {\"interactionType\": 3, \"questionType\": 4, \"questionId\": \"5_RemoveIPEncoding\", \"learnToolsVersion\": \"0.3.4\", \"valueTowardsCompletion\": 0.0, \"failureMessage\": \"\", \"exceptionClass\": \"\", \"trace\": \"\", \"outcomeType\": 4}}, \"*\")"
      ],
      "text/plain": [
       "<IPython.core.display.Javascript object>"
      ]
     },
     "metadata": {},
     "output_type": "display_data"
    },
    {
     "data": {
      "text/markdown": [
       "<span style=\"color:#33cc99\">Solution:</span> \n",
       "    Target encoding attempts to measure the population mean of the target for each \n",
       "    level in a categorical feature. This means when there is less data per level, the \n",
       "    estimated mean will be further away from the \"true\" mean, there will be more variance. \n",
       "    There is little data per IP address so it's likely that the estimates are much noisier\n",
       "    than for the other features. The model will rely heavily on this feature since it is \n",
       "    extremely predictive. This causes it to make fewer splits on other features, and those\n",
       "    features are fit on just the errors left over accounting for IP address. So, the \n",
       "    model will perform very poorly when seeing new IP addresses that weren't in the \n",
       "    training data (which is likely most new data). Going forward, we'll leave out the IP feature when trying\n",
       "    different encodings.\n",
       "    "
      ],
      "text/plain": [
       "Solution: \n",
       "    Target encoding attempts to measure the population mean of the target for each \n",
       "    level in a categorical feature. This means when there is less data per level, the \n",
       "    estimated mean will be further away from the \"true\" mean, there will be more variance. \n",
       "    There is little data per IP address so it's likely that the estimates are much noisier\n",
       "    than for the other features. The model will rely heavily on this feature since it is \n",
       "    extremely predictive. This causes it to make fewer splits on other features, and those\n",
       "    features are fit on just the errors left over accounting for IP address. So, the \n",
       "    model will perform very poorly when seeing new IP addresses that weren't in the \n",
       "    training data (which is likely most new data). Going forward, we'll leave out the IP feature when trying\n",
       "    different encodings.\n",
       "    "
      ]
     },
     "metadata": {},
     "output_type": "display_data"
    }
   ],
   "source": [
    "# Check your answer (Run this code cell to receive credit!)\n",
    "q_5.solution()"
   ]
  },
  {
   "cell_type": "markdown",
   "metadata": {
    "papermill": {
     "duration": 0.031128,
     "end_time": "2021-02-04T05:58:51.474702",
     "exception": false,
     "start_time": "2021-02-04T05:58:51.443574",
     "status": "completed"
    },
    "tags": []
   },
   "source": [
    "### 6) CatBoost Encoding\n",
    "\n",
    "The CatBoost encoder is supposed to work well with the LightGBM model. Encode the categorical features with `CatBoostEncoder` and train the model on the encoded data again."
   ]
  },
  {
   "cell_type": "code",
   "execution_count": 15,
   "metadata": {
    "execution": {
     "iopub.execute_input": "2021-02-04T05:58:51.543571Z",
     "iopub.status.busy": "2021-02-04T05:58:51.542858Z",
     "iopub.status.idle": "2021-02-04T05:59:03.166602Z",
     "shell.execute_reply": "2021-02-04T05:59:03.167158Z"
    },
    "papermill": {
     "duration": 11.660915,
     "end_time": "2021-02-04T05:59:03.167347",
     "exception": false,
     "start_time": "2021-02-04T05:58:51.506432",
     "status": "completed"
    },
    "tags": []
   },
   "outputs": [
    {
     "name": "stderr",
     "output_type": "stream",
     "text": [
      "/opt/conda/lib/python3.7/site-packages/category_encoders/utils.py:21: FutureWarning: is_categorical is deprecated and will be removed in a future version.  Use is_categorical_dtype instead\n",
      "  elif pd.api.types.is_categorical(cols):\n"
     ]
    },
    {
     "data": {
      "application/javascript": [
       "parent.postMessage({\"jupyterEvent\": \"custom.exercise_interaction\", \"data\": {\"outcomeType\": 1, \"valueTowardsCompletion\": 0.125, \"interactionType\": 1, \"questionType\": 1, \"questionId\": \"6_CatBoostEncodings\", \"learnToolsVersion\": \"0.3.4\", \"failureMessage\": \"\", \"exceptionClass\": \"\", \"trace\": \"\"}}, \"*\")"
      ],
      "text/plain": [
       "<IPython.core.display.Javascript object>"
      ]
     },
     "metadata": {},
     "output_type": "display_data"
    },
    {
     "data": {
      "text/markdown": [
       "<span style=\"color:#33cc33\">Correct</span>"
      ],
      "text/plain": [
       "Correct"
      ]
     },
     "metadata": {},
     "output_type": "display_data"
    }
   ],
   "source": [
    "# Remove IP from the encoded features\n",
    "cat_features = ['app', 'device', 'os', 'channel']\n",
    "\n",
    "# Create the CatBoost encoder\n",
    "cb_enc = ce.CatBoostEncoder(cols=cat_features, random_state=7)\n",
    "\n",
    "# Learn encoding from the training set\n",
    "c_encoded = cb_enc.fit(train[cat_features],train['is_attributed'])\n",
    "\n",
    "# Apply encoding to the train and validation sets as new columns\n",
    "# Make sure to add `_cb` as a suffix to the new columns\n",
    "train_encoded = train.join(c_encoded.transform(train[cat_features]).add_suffix('_cb'))\n",
    "valid_encoded = valid.join(c_encoded.transform(valid[cat_features]).add_suffix('_cb'))\n",
    "\n",
    "# Check your answer\n",
    "q_6.check()"
   ]
  },
  {
   "cell_type": "code",
   "execution_count": 16,
   "metadata": {
    "execution": {
     "iopub.execute_input": "2021-02-04T05:59:03.240578Z",
     "iopub.status.busy": "2021-02-04T05:59:03.239803Z",
     "iopub.status.idle": "2021-02-04T05:59:03.243521Z",
     "shell.execute_reply": "2021-02-04T05:59:03.242890Z"
    },
    "papermill": {
     "duration": 0.042588,
     "end_time": "2021-02-04T05:59:03.243648",
     "exception": false,
     "start_time": "2021-02-04T05:59:03.201060",
     "status": "completed"
    },
    "tags": []
   },
   "outputs": [],
   "source": [
    "# Uncomment these if you need some guidance\n",
    "#q_6.hint()\n",
    "#q_6.solution()"
   ]
  },
  {
   "cell_type": "markdown",
   "metadata": {
    "papermill": {
     "duration": 0.032811,
     "end_time": "2021-02-04T05:59:03.309840",
     "exception": false,
     "start_time": "2021-02-04T05:59:03.277029",
     "status": "completed"
    },
    "tags": []
   },
   "source": [
    "Run the next code cell to see how the CatBoost encoder changes your results."
   ]
  },
  {
   "cell_type": "code",
   "execution_count": 17,
   "metadata": {
    "execution": {
     "iopub.execute_input": "2021-02-04T05:59:03.381429Z",
     "iopub.status.busy": "2021-02-04T05:59:03.380617Z",
     "iopub.status.idle": "2021-02-04T05:59:44.206784Z",
     "shell.execute_reply": "2021-02-04T05:59:44.207317Z"
    },
    "papermill": {
     "duration": 40.864923,
     "end_time": "2021-02-04T05:59:44.207480",
     "exception": false,
     "start_time": "2021-02-04T05:59:03.342557",
     "status": "completed"
    },
    "tags": []
   },
   "outputs": [
    {
     "name": "stdout",
     "output_type": "stream",
     "text": [
      "[LightGBM] [Info] Number of positive: 363974, number of negative: 1476475\n",
      "[LightGBM] [Warning] Auto-choosing col-wise multi-threading, the overhead of testing was 0.273205 seconds.\n",
      "You can set `force_col_wise=true` to remove the overhead.\n",
      "[LightGBM] [Info] Total Bins 1731\n",
      "[LightGBM] [Info] Number of data points in the train set: 1840449, number of used features: 13\n",
      "[LightGBM] [Info] [binary:BoostFromScore]: pavg=0.197764 -> initscore=-1.400330\n",
      "[LightGBM] [Info] Start training from score -1.400330\n",
      "Validation AUC score: 0.9628259061746094\n"
     ]
    }
   ],
   "source": [
    "_ = train_model(train_encoded, valid_encoded)"
   ]
  },
  {
   "cell_type": "markdown",
   "metadata": {
    "papermill": {
     "duration": 0.034271,
     "end_time": "2021-02-04T05:59:44.277266",
     "exception": false,
     "start_time": "2021-02-04T05:59:44.242995",
     "status": "completed"
    },
    "tags": []
   },
   "source": [
    "# Keep Going\n",
    "\n",
    "Now you are ready to **[generate completely new features](https://www.kaggle.com/matleonard/feature-generation)** from the data."
   ]
  },
  {
   "cell_type": "markdown",
   "metadata": {
    "papermill": {
     "duration": 0.034022,
     "end_time": "2021-02-04T05:59:44.345920",
     "exception": false,
     "start_time": "2021-02-04T05:59:44.311898",
     "status": "completed"
    },
    "tags": []
   },
   "source": [
    "---\n",
    "\n",
    "\n",
    "\n",
    "\n",
    "*Have questions or comments? Visit the [Learn Discussion forum](https://www.kaggle.com/learn-forum/161443) to chat with other Learners.*"
   ]
  }
 ],
 "metadata": {
  "kernelspec": {
   "display_name": "Python 3",
   "language": "python",
   "name": "python3"
  },
  "language_info": {
   "codemirror_mode": {
    "name": "ipython",
    "version": 3
   },
   "file_extension": ".py",
   "mimetype": "text/x-python",
   "name": "python",
   "nbconvert_exporter": "python",
   "pygments_lexer": "ipython3",
   "version": "3.7.9"
  },
  "papermill": {
   "default_parameters": {},
   "duration": 215.903036,
   "end_time": "2021-02-04T05:59:45.092402",
   "environment_variables": {},
   "exception": null,
   "input_path": "__notebook__.ipynb",
   "output_path": "__notebook__.ipynb",
   "parameters": {},
   "start_time": "2021-02-04T05:56:09.189366",
   "version": "2.2.2"
  }
 },
 "nbformat": 4,
 "nbformat_minor": 4
}
