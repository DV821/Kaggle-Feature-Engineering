{
 "cells": [
  {
   "cell_type": "markdown",
   "metadata": {
    "_cell_guid": "5448c353-ccbd-4153-9f1d-919129e4664e",
    "_uuid": "1acf775b-a1a6-4cb5-931d-3d9f43133a11",
    "papermill": {
     "duration": 0.015158,
     "end_time": "2021-02-04T05:48:56.503429",
     "exception": false,
     "start_time": "2021-02-04T05:48:56.488271",
     "status": "completed"
    },
    "tags": []
   },
   "source": [
    "# Baseline Model"
   ]
  },
  {
   "cell_type": "markdown",
   "metadata": {
    "_cell_guid": "3a6f4a9e-f702-4f2d-9cf2-0b61f4d9f25a",
    "_uuid": "604f045e-4e58-4d03-bd33-728c6055e456",
    "papermill": {
     "duration": 0.013697,
     "end_time": "2021-02-04T05:48:56.531270",
     "exception": false,
     "start_time": "2021-02-04T05:48:56.517573",
     "status": "completed"
    },
    "tags": []
   },
   "source": [
    "**This notebook is an exercise in the [Feature Engineering](https://www.kaggle.com/learn/feature-engineering) course.  You can reference the tutorial at [this link](https://www.kaggle.com/matleonard/baseline-model).**\n",
    "\n",
    "---"
   ]
  },
  {
   "cell_type": "markdown",
   "metadata": {
    "_cell_guid": "bf668967-3949-40bf-a2cc-5f47b7df6995",
    "_uuid": "97f973c9-827a-44d3-99cf-e8627324ecbb",
    "papermill": {
     "duration": 0.014105,
     "end_time": "2021-02-04T05:48:56.559724",
     "exception": false,
     "start_time": "2021-02-04T05:48:56.545619",
     "status": "completed"
    },
    "tags": []
   },
   "source": [
    "# Introduction\n",
    "\n",
    "In the exercise, you will work with data from the TalkingData AdTracking competition.  The goal of the competition is to predict if a user will download an app after clicking through an ad. \n",
    "\n",
    "<center><a href=\"https://www.kaggle.com/c/talkingdata-adtracking-fraud-detection\"><img src=\"https://i.imgur.com/srKxEkD.png\" width=600px></a></center>\n",
    "\n",
    "For this course you will use a small sample of the data, dropping 99% of negative records (where the app wasn't downloaded) to make the target more balanced.\n",
    "\n",
    "After building a baseline model, you'll be able to see how your feature engineering and selection efforts improve the model's performance.\n",
    "\n",
    "## Setup\n",
    "\n",
    "Begin by running the code cell below to set up the exercise."
   ]
  },
  {
   "cell_type": "code",
   "execution_count": 1,
   "metadata": {
    "_cell_guid": "cb1c5ecd-4d37-4e83-9046-5cc017f32fd9",
    "_uuid": "6d950df0-26f1-4a2e-8bc6-4ab9102ab67f",
    "execution": {
     "iopub.execute_input": "2021-02-04T05:48:56.594248Z",
     "iopub.status.busy": "2021-02-04T05:48:56.593616Z",
     "iopub.status.idle": "2021-02-04T05:49:06.257417Z",
     "shell.execute_reply": "2021-02-04T05:49:06.256725Z"
    },
    "papermill": {
     "duration": 9.68373,
     "end_time": "2021-02-04T05:49:06.257625",
     "exception": false,
     "start_time": "2021-02-04T05:48:56.573895",
     "status": "completed"
    },
    "tags": []
   },
   "outputs": [],
   "source": [
    "# Set up code checking\n",
    "from learntools.core import binder\n",
    "binder.bind(globals())\n",
    "from learntools.feature_engineering.ex1 import *"
   ]
  },
  {
   "cell_type": "markdown",
   "metadata": {
    "_cell_guid": "c0b04483-463a-43eb-9d6e-684b7875272d",
    "_uuid": "4771acc9-15b4-4599-92ab-05c0294eb3cd",
    "papermill": {
     "duration": 0.014633,
     "end_time": "2021-02-04T05:49:06.287560",
     "exception": false,
     "start_time": "2021-02-04T05:49:06.272927",
     "status": "completed"
    },
    "tags": []
   },
   "source": [
    "## Baseline Model\n",
    "\n",
    "The first thing you'll do is construct a baseline model. We'll begin by looking at the data."
   ]
  },
  {
   "cell_type": "code",
   "execution_count": 2,
   "metadata": {
    "_cell_guid": "6444ed84-6bcf-4f0c-8965-57f2d8fc73d3",
    "_uuid": "e704c8ca-0eba-48ff-baf8-f77776bd5e60",
    "execution": {
     "iopub.execute_input": "2021-02-04T05:49:06.324557Z",
     "iopub.status.busy": "2021-02-04T05:49:06.323495Z",
     "iopub.status.idle": "2021-02-04T05:49:11.247647Z",
     "shell.execute_reply": "2021-02-04T05:49:11.246981Z"
    },
    "papermill": {
     "duration": 4.945145,
     "end_time": "2021-02-04T05:49:11.247790",
     "exception": false,
     "start_time": "2021-02-04T05:49:06.302645",
     "status": "completed"
    },
    "tags": []
   },
   "outputs": [
    {
     "data": {
      "text/html": [
       "<div>\n",
       "<style scoped>\n",
       "    .dataframe tbody tr th:only-of-type {\n",
       "        vertical-align: middle;\n",
       "    }\n",
       "\n",
       "    .dataframe tbody tr th {\n",
       "        vertical-align: top;\n",
       "    }\n",
       "\n",
       "    .dataframe thead th {\n",
       "        text-align: right;\n",
       "    }\n",
       "</style>\n",
       "<table border=\"1\" class=\"dataframe\">\n",
       "  <thead>\n",
       "    <tr style=\"text-align: right;\">\n",
       "      <th></th>\n",
       "      <th>ip</th>\n",
       "      <th>app</th>\n",
       "      <th>device</th>\n",
       "      <th>os</th>\n",
       "      <th>channel</th>\n",
       "      <th>click_time</th>\n",
       "      <th>attributed_time</th>\n",
       "      <th>is_attributed</th>\n",
       "    </tr>\n",
       "  </thead>\n",
       "  <tbody>\n",
       "    <tr>\n",
       "      <th>0</th>\n",
       "      <td>89489</td>\n",
       "      <td>3</td>\n",
       "      <td>1</td>\n",
       "      <td>13</td>\n",
       "      <td>379</td>\n",
       "      <td>2017-11-06 15:13:23</td>\n",
       "      <td>NaN</td>\n",
       "      <td>0</td>\n",
       "    </tr>\n",
       "    <tr>\n",
       "      <th>1</th>\n",
       "      <td>204158</td>\n",
       "      <td>35</td>\n",
       "      <td>1</td>\n",
       "      <td>13</td>\n",
       "      <td>21</td>\n",
       "      <td>2017-11-06 15:41:07</td>\n",
       "      <td>2017-11-07 08:17:19</td>\n",
       "      <td>1</td>\n",
       "    </tr>\n",
       "    <tr>\n",
       "      <th>2</th>\n",
       "      <td>3437</td>\n",
       "      <td>6</td>\n",
       "      <td>1</td>\n",
       "      <td>13</td>\n",
       "      <td>459</td>\n",
       "      <td>2017-11-06 15:42:32</td>\n",
       "      <td>NaN</td>\n",
       "      <td>0</td>\n",
       "    </tr>\n",
       "    <tr>\n",
       "      <th>3</th>\n",
       "      <td>167543</td>\n",
       "      <td>3</td>\n",
       "      <td>1</td>\n",
       "      <td>13</td>\n",
       "      <td>379</td>\n",
       "      <td>2017-11-06 15:56:17</td>\n",
       "      <td>NaN</td>\n",
       "      <td>0</td>\n",
       "    </tr>\n",
       "    <tr>\n",
       "      <th>4</th>\n",
       "      <td>147509</td>\n",
       "      <td>3</td>\n",
       "      <td>1</td>\n",
       "      <td>13</td>\n",
       "      <td>379</td>\n",
       "      <td>2017-11-06 15:57:01</td>\n",
       "      <td>NaN</td>\n",
       "      <td>0</td>\n",
       "    </tr>\n",
       "  </tbody>\n",
       "</table>\n",
       "</div>"
      ],
      "text/plain": [
       "       ip  app  device  os  channel          click_time      attributed_time  \\\n",
       "0   89489    3       1  13      379 2017-11-06 15:13:23                  NaN   \n",
       "1  204158   35       1  13       21 2017-11-06 15:41:07  2017-11-07 08:17:19   \n",
       "2    3437    6       1  13      459 2017-11-06 15:42:32                  NaN   \n",
       "3  167543    3       1  13      379 2017-11-06 15:56:17                  NaN   \n",
       "4  147509    3       1  13      379 2017-11-06 15:57:01                  NaN   \n",
       "\n",
       "   is_attributed  \n",
       "0              0  \n",
       "1              1  \n",
       "2              0  \n",
       "3              0  \n",
       "4              0  "
      ]
     },
     "execution_count": 2,
     "metadata": {},
     "output_type": "execute_result"
    }
   ],
   "source": [
    "import pandas as pd\n",
    "\n",
    "click_data = pd.read_csv('../input/feature-engineering-data/train_sample.csv',\n",
    "                         parse_dates=['click_time'])\n",
    "click_data.head()"
   ]
  },
  {
   "cell_type": "markdown",
   "metadata": {
    "_cell_guid": "3eebfbfa-fc96-454f-9007-19b4492adfbc",
    "_uuid": "8fda6c30-2718-4cca-a7ee-f51e25a19944",
    "papermill": {
     "duration": 0.01567,
     "end_time": "2021-02-04T05:49:11.279621",
     "exception": false,
     "start_time": "2021-02-04T05:49:11.263951",
     "status": "completed"
    },
    "tags": []
   },
   "source": [
    "### 1) Construct features from timestamps\n",
    "\n",
    "Notice that the `click_data` DataFrame has a `'click_time'` column with timestamp data.\n",
    "\n",
    "Use this column to create features for the coresponding day, hour, minute and second. \n",
    "\n",
    "Store these as new integer columns `day`, `hour`, `minute`, and `second` in a new DataFrame `clicks`."
   ]
  },
  {
   "cell_type": "code",
   "execution_count": 3,
   "metadata": {
    "_cell_guid": "ad63947f-538f-4392-b957-c778c9259a8b",
    "_uuid": "099d2fbe-e4d4-4c84-855d-dcc73685e7d2",
    "execution": {
     "iopub.execute_input": "2021-02-04T05:49:11.320258Z",
     "iopub.status.busy": "2021-02-04T05:49:11.319257Z",
     "iopub.status.idle": "2021-02-04T05:49:12.504134Z",
     "shell.execute_reply": "2021-02-04T05:49:12.503370Z"
    },
    "papermill": {
     "duration": 1.208676,
     "end_time": "2021-02-04T05:49:12.504275",
     "exception": false,
     "start_time": "2021-02-04T05:49:11.295599",
     "status": "completed"
    },
    "tags": []
   },
   "outputs": [
    {
     "data": {
      "application/javascript": [
       "parent.postMessage({\"jupyterEvent\": \"custom.exercise_interaction\", \"data\": {\"outcomeType\": 1, \"valueTowardsCompletion\": 0.25, \"interactionType\": 1, \"questionType\": 1, \"questionId\": \"1_TimestampFeatures\", \"learnToolsVersion\": \"0.3.4\", \"failureMessage\": \"\", \"exceptionClass\": \"\", \"trace\": \"\"}}, \"*\")"
      ],
      "text/plain": [
       "<IPython.core.display.Javascript object>"
      ]
     },
     "metadata": {},
     "output_type": "display_data"
    },
    {
     "data": {
      "text/markdown": [
       "<span style=\"color:#33cc33\">Correct</span>"
      ],
      "text/plain": [
       "Correct"
      ]
     },
     "metadata": {},
     "output_type": "display_data"
    }
   ],
   "source": [
    "# Add new columns for timestamp features day, hour, minute, and second\n",
    "clicks = click_data.copy()\n",
    "clicks['day'] = clicks['click_time'].dt.day.astype('uint8')\n",
    "# Fill in the rest\n",
    "clicks['hour'] = clicks['click_time'].dt.hour.astype('uint8')\n",
    "clicks['minute'] = clicks['click_time'].dt.minute.astype('uint8')\n",
    "clicks['second'] = clicks['click_time'].dt.second.astype('uint8')\n",
    "\n",
    "# Check your answer\n",
    "q_1.check()"
   ]
  },
  {
   "cell_type": "code",
   "execution_count": 4,
   "metadata": {
    "_cell_guid": "71c48055-0fda-4552-bbb9-80a55682b31d",
    "_uuid": "9ac52f81-a6cd-412f-9402-10b05bb65641",
    "execution": {
     "iopub.execute_input": "2021-02-04T05:49:12.543708Z",
     "iopub.status.busy": "2021-02-04T05:49:12.543084Z",
     "iopub.status.idle": "2021-02-04T05:49:12.546202Z",
     "shell.execute_reply": "2021-02-04T05:49:12.545514Z"
    },
    "papermill": {
     "duration": 0.025009,
     "end_time": "2021-02-04T05:49:12.546348",
     "exception": false,
     "start_time": "2021-02-04T05:49:12.521339",
     "status": "completed"
    },
    "tags": []
   },
   "outputs": [],
   "source": [
    "# Uncomment these if you need guidance\n",
    "#q_1.hint()\n",
    "#q_1.solution()"
   ]
  },
  {
   "cell_type": "markdown",
   "metadata": {
    "_cell_guid": "6556dcda-64fe-40f7-8bf7-ae58d1b758da",
    "_uuid": "0c697134-6ea8-446c-9794-d3c4561096d3",
    "papermill": {
     "duration": 0.016663,
     "end_time": "2021-02-04T05:49:12.579959",
     "exception": false,
     "start_time": "2021-02-04T05:49:12.563296",
     "status": "completed"
    },
    "tags": []
   },
   "source": [
    "### 2) Label Encoding\n",
    "For each of the categorical features `['ip', 'app', 'device', 'os', 'channel']`, use scikit-learn's `LabelEncoder` to create new features in the `clicks` DataFrame. The new column names should be the original column name with `'_labels'` appended, like `ip_labels`."
   ]
  },
  {
   "cell_type": "code",
   "execution_count": 5,
   "metadata": {
    "_cell_guid": "f876a764-167e-4531-a142-b14731468f37",
    "_uuid": "30b4c0c3-cd38-4cfc-8192-eee936b1366b",
    "execution": {
     "iopub.execute_input": "2021-02-04T05:49:12.616998Z",
     "iopub.status.busy": "2021-02-04T05:49:12.616267Z",
     "iopub.status.idle": "2021-02-04T05:49:16.354462Z",
     "shell.execute_reply": "2021-02-04T05:49:16.355169Z"
    },
    "papermill": {
     "duration": 3.758844,
     "end_time": "2021-02-04T05:49:16.355401",
     "exception": false,
     "start_time": "2021-02-04T05:49:12.596557",
     "status": "completed"
    },
    "tags": []
   },
   "outputs": [
    {
     "data": {
      "application/javascript": [
       "parent.postMessage({\"jupyterEvent\": \"custom.exercise_interaction\", \"data\": {\"outcomeType\": 1, \"valueTowardsCompletion\": 0.25, \"interactionType\": 1, \"questionType\": 2, \"questionId\": \"2_LabelEncoding\", \"learnToolsVersion\": \"0.3.4\", \"failureMessage\": \"\", \"exceptionClass\": \"\", \"trace\": \"\"}}, \"*\")"
      ],
      "text/plain": [
       "<IPython.core.display.Javascript object>"
      ]
     },
     "metadata": {},
     "output_type": "display_data"
    },
    {
     "data": {
      "text/markdown": [
       "<span style=\"color:#33cc33\">Correct</span>"
      ],
      "text/plain": [
       "Correct"
      ]
     },
     "metadata": {},
     "output_type": "display_data"
    }
   ],
   "source": [
    "from sklearn import preprocessing\n",
    "\n",
    "cat_features = ['ip', 'app', 'device', 'os', 'channel']\n",
    "\n",
    "# Create new columns in clicks using preprocessing.LabelEncoder()\n",
    "lb=preprocessing.LabelEncoder()\n",
    "for feature in cat_features:\n",
    "    encoded=lb.fit_transform(clicks[feature])\n",
    "    clicks[feature+'_labels']=encoded\n",
    "    \n",
    "\n",
    "# Check your answer\n",
    "q_2.check()"
   ]
  },
  {
   "cell_type": "code",
   "execution_count": 6,
   "metadata": {
    "_cell_guid": "2da63b7b-20fb-4594-a979-1e1662177f7a",
    "_uuid": "4cce0ef9-fefc-46ae-99df-2737aa952136",
    "execution": {
     "iopub.execute_input": "2021-02-04T05:49:16.398239Z",
     "iopub.status.busy": "2021-02-04T05:49:16.397382Z",
     "iopub.status.idle": "2021-02-04T05:49:16.401353Z",
     "shell.execute_reply": "2021-02-04T05:49:16.400614Z"
    },
    "papermill": {
     "duration": 0.026872,
     "end_time": "2021-02-04T05:49:16.401532",
     "exception": false,
     "start_time": "2021-02-04T05:49:16.374660",
     "status": "completed"
    },
    "tags": []
   },
   "outputs": [],
   "source": [
    "# Uncomment these if you need guidance\n",
    "#q_2.hint()\n",
    "#q_2.solution()"
   ]
  },
  {
   "cell_type": "markdown",
   "metadata": {
    "_cell_guid": "f4cdc7e9-f334-4f00-8f02-f98cfb0fd5b8",
    "_uuid": "f661370d-f94d-4c5a-842f-73a6ae20aff2",
    "papermill": {
     "duration": 0.027184,
     "end_time": "2021-02-04T05:49:16.456161",
     "exception": false,
     "start_time": "2021-02-04T05:49:16.428977",
     "status": "completed"
    },
    "tags": []
   },
   "source": [
    "Run the next code cell to view your new DataFrame."
   ]
  },
  {
   "cell_type": "code",
   "execution_count": 7,
   "metadata": {
    "_cell_guid": "402c96b2-5c90-4571-b01a-49cdcece7cb7",
    "_uuid": "8cca13e0-21dd-408f-a38c-9b5f277e160e",
    "execution": {
     "iopub.execute_input": "2021-02-04T05:49:16.517991Z",
     "iopub.status.busy": "2021-02-04T05:49:16.517176Z",
     "iopub.status.idle": "2021-02-04T05:49:16.533761Z",
     "shell.execute_reply": "2021-02-04T05:49:16.534478Z"
    },
    "papermill": {
     "duration": 0.051147,
     "end_time": "2021-02-04T05:49:16.534692",
     "exception": false,
     "start_time": "2021-02-04T05:49:16.483545",
     "status": "completed"
    },
    "tags": []
   },
   "outputs": [
    {
     "data": {
      "text/html": [
       "<div>\n",
       "<style scoped>\n",
       "    .dataframe tbody tr th:only-of-type {\n",
       "        vertical-align: middle;\n",
       "    }\n",
       "\n",
       "    .dataframe tbody tr th {\n",
       "        vertical-align: top;\n",
       "    }\n",
       "\n",
       "    .dataframe thead th {\n",
       "        text-align: right;\n",
       "    }\n",
       "</style>\n",
       "<table border=\"1\" class=\"dataframe\">\n",
       "  <thead>\n",
       "    <tr style=\"text-align: right;\">\n",
       "      <th></th>\n",
       "      <th>ip</th>\n",
       "      <th>app</th>\n",
       "      <th>device</th>\n",
       "      <th>os</th>\n",
       "      <th>channel</th>\n",
       "      <th>click_time</th>\n",
       "      <th>attributed_time</th>\n",
       "      <th>is_attributed</th>\n",
       "      <th>day</th>\n",
       "      <th>hour</th>\n",
       "      <th>minute</th>\n",
       "      <th>second</th>\n",
       "      <th>ip_labels</th>\n",
       "      <th>app_labels</th>\n",
       "      <th>device_labels</th>\n",
       "      <th>os_labels</th>\n",
       "      <th>channel_labels</th>\n",
       "    </tr>\n",
       "  </thead>\n",
       "  <tbody>\n",
       "    <tr>\n",
       "      <th>0</th>\n",
       "      <td>89489</td>\n",
       "      <td>3</td>\n",
       "      <td>1</td>\n",
       "      <td>13</td>\n",
       "      <td>379</td>\n",
       "      <td>2017-11-06 15:13:23</td>\n",
       "      <td>NaN</td>\n",
       "      <td>0</td>\n",
       "      <td>6</td>\n",
       "      <td>15</td>\n",
       "      <td>13</td>\n",
       "      <td>23</td>\n",
       "      <td>27226</td>\n",
       "      <td>3</td>\n",
       "      <td>1</td>\n",
       "      <td>13</td>\n",
       "      <td>120</td>\n",
       "    </tr>\n",
       "    <tr>\n",
       "      <th>1</th>\n",
       "      <td>204158</td>\n",
       "      <td>35</td>\n",
       "      <td>1</td>\n",
       "      <td>13</td>\n",
       "      <td>21</td>\n",
       "      <td>2017-11-06 15:41:07</td>\n",
       "      <td>2017-11-07 08:17:19</td>\n",
       "      <td>1</td>\n",
       "      <td>6</td>\n",
       "      <td>15</td>\n",
       "      <td>41</td>\n",
       "      <td>7</td>\n",
       "      <td>110007</td>\n",
       "      <td>35</td>\n",
       "      <td>1</td>\n",
       "      <td>13</td>\n",
       "      <td>10</td>\n",
       "    </tr>\n",
       "    <tr>\n",
       "      <th>2</th>\n",
       "      <td>3437</td>\n",
       "      <td>6</td>\n",
       "      <td>1</td>\n",
       "      <td>13</td>\n",
       "      <td>459</td>\n",
       "      <td>2017-11-06 15:42:32</td>\n",
       "      <td>NaN</td>\n",
       "      <td>0</td>\n",
       "      <td>6</td>\n",
       "      <td>15</td>\n",
       "      <td>42</td>\n",
       "      <td>32</td>\n",
       "      <td>1047</td>\n",
       "      <td>6</td>\n",
       "      <td>1</td>\n",
       "      <td>13</td>\n",
       "      <td>157</td>\n",
       "    </tr>\n",
       "    <tr>\n",
       "      <th>3</th>\n",
       "      <td>167543</td>\n",
       "      <td>3</td>\n",
       "      <td>1</td>\n",
       "      <td>13</td>\n",
       "      <td>379</td>\n",
       "      <td>2017-11-06 15:56:17</td>\n",
       "      <td>NaN</td>\n",
       "      <td>0</td>\n",
       "      <td>6</td>\n",
       "      <td>15</td>\n",
       "      <td>56</td>\n",
       "      <td>17</td>\n",
       "      <td>76270</td>\n",
       "      <td>3</td>\n",
       "      <td>1</td>\n",
       "      <td>13</td>\n",
       "      <td>120</td>\n",
       "    </tr>\n",
       "    <tr>\n",
       "      <th>4</th>\n",
       "      <td>147509</td>\n",
       "      <td>3</td>\n",
       "      <td>1</td>\n",
       "      <td>13</td>\n",
       "      <td>379</td>\n",
       "      <td>2017-11-06 15:57:01</td>\n",
       "      <td>NaN</td>\n",
       "      <td>0</td>\n",
       "      <td>6</td>\n",
       "      <td>15</td>\n",
       "      <td>57</td>\n",
       "      <td>1</td>\n",
       "      <td>57862</td>\n",
       "      <td>3</td>\n",
       "      <td>1</td>\n",
       "      <td>13</td>\n",
       "      <td>120</td>\n",
       "    </tr>\n",
       "  </tbody>\n",
       "</table>\n",
       "</div>"
      ],
      "text/plain": [
       "       ip  app  device  os  channel          click_time      attributed_time  \\\n",
       "0   89489    3       1  13      379 2017-11-06 15:13:23                  NaN   \n",
       "1  204158   35       1  13       21 2017-11-06 15:41:07  2017-11-07 08:17:19   \n",
       "2    3437    6       1  13      459 2017-11-06 15:42:32                  NaN   \n",
       "3  167543    3       1  13      379 2017-11-06 15:56:17                  NaN   \n",
       "4  147509    3       1  13      379 2017-11-06 15:57:01                  NaN   \n",
       "\n",
       "   is_attributed  day  hour  minute  second  ip_labels  app_labels  \\\n",
       "0              0    6    15      13      23      27226           3   \n",
       "1              1    6    15      41       7     110007          35   \n",
       "2              0    6    15      42      32       1047           6   \n",
       "3              0    6    15      56      17      76270           3   \n",
       "4              0    6    15      57       1      57862           3   \n",
       "\n",
       "   device_labels  os_labels  channel_labels  \n",
       "0              1         13             120  \n",
       "1              1         13              10  \n",
       "2              1         13             157  \n",
       "3              1         13             120  \n",
       "4              1         13             120  "
      ]
     },
     "execution_count": 7,
     "metadata": {},
     "output_type": "execute_result"
    }
   ],
   "source": [
    "clicks.head()"
   ]
  },
  {
   "cell_type": "markdown",
   "metadata": {
    "_cell_guid": "28928a17-e40c-4e14-b43c-027a678d6610",
    "_uuid": "c3697f2e-fe5a-4d67-a354-7f59783c401b",
    "papermill": {
     "duration": 0.027822,
     "end_time": "2021-02-04T05:49:16.590906",
     "exception": false,
     "start_time": "2021-02-04T05:49:16.563084",
     "status": "completed"
    },
    "tags": []
   },
   "source": [
    "### 3) One-hot Encoding\n",
    "\n",
    "In the code cell above, you used label encoded features.  Would it have also made sense to instead use one-hot encoding for the categorical variables `'ip'`, `'app'`, `'device'`, `'os'`, or `'channel'`?\n",
    "\n",
    "**Note**: If you're not familiar with one-hot encoding, please check out **[this lesson](https://www.kaggle.com/alexisbcook/categorical-variables)** from the Intermediate Machine Learning course.\n",
    "\n",
    "Run the following line after you've decided your answer."
   ]
  },
  {
   "cell_type": "code",
   "execution_count": 8,
   "metadata": {
    "_cell_guid": "4cf0083d-61b5-4e28-a81a-80ec99b9fd2c",
    "_uuid": "b685a1d2-f34a-4c68-8aeb-75e2597a6355",
    "execution": {
     "iopub.execute_input": "2021-02-04T05:49:16.654806Z",
     "iopub.status.busy": "2021-02-04T05:49:16.654175Z",
     "iopub.status.idle": "2021-02-04T05:49:16.660041Z",
     "shell.execute_reply": "2021-02-04T05:49:16.660620Z"
    },
    "papermill": {
     "duration": 0.040813,
     "end_time": "2021-02-04T05:49:16.660792",
     "exception": false,
     "start_time": "2021-02-04T05:49:16.619979",
     "status": "completed"
    },
    "tags": []
   },
   "outputs": [
    {
     "data": {
      "application/javascript": [
       "parent.postMessage({\"jupyterEvent\": \"custom.exercise_interaction\", \"data\": {\"interactionType\": 3, \"questionType\": 4, \"questionId\": \"3_OnehotEncoding\", \"learnToolsVersion\": \"0.3.4\", \"valueTowardsCompletion\": 0.0, \"failureMessage\": \"\", \"exceptionClass\": \"\", \"trace\": \"\", \"outcomeType\": 4}}, \"*\")"
      ],
      "text/plain": [
       "<IPython.core.display.Javascript object>"
      ]
     },
     "metadata": {},
     "output_type": "display_data"
    },
    {
     "data": {
      "text/markdown": [
       "<span style=\"color:#33cc99\">Solution:</span> \n",
       "    The `ip` column has 58,000 values, which means it will create an extremely \n",
       "    sparse matrix with 58,000 columns. This many columns will make your model run\n",
       "    very slow, so in general you want to avoid one-hot encoding features with many\n",
       "    levels. LightGBM models work with label encoded features, so you don't actually need to \n",
       "    one-hot encode the categorical features.\n",
       "\n",
       "    "
      ],
      "text/plain": [
       "Solution: \n",
       "    The `ip` column has 58,000 values, which means it will create an extremely \n",
       "    sparse matrix with 58,000 columns. This many columns will make your model run\n",
       "    very slow, so in general you want to avoid one-hot encoding features with many\n",
       "    levels. LightGBM models work with label encoded features, so you don't actually need to \n",
       "    one-hot encode the categorical features.\n",
       "\n",
       "    "
      ]
     },
     "metadata": {},
     "output_type": "display_data"
    }
   ],
   "source": [
    "# Check your answer (Run this code cell to receive credit!)\n",
    "q_3.solution()"
   ]
  },
  {
   "cell_type": "markdown",
   "metadata": {
    "_cell_guid": "6d003102-9f15-4b47-aa49-b45a6868e4d8",
    "_uuid": "1bb7e8b0-e049-4798-8e02-c895746e72d1",
    "papermill": {
     "duration": 0.019824,
     "end_time": "2021-02-04T05:49:16.700638",
     "exception": false,
     "start_time": "2021-02-04T05:49:16.680814",
     "status": "completed"
    },
    "tags": []
   },
   "source": [
    "## Train, validation, and test sets\n",
    "With our baseline features ready, we need to split our data into training and validation sets. We should also hold out a test set to measure the final accuracy of the model.\n",
    "\n",
    "### 4) Train/test splits with time series data\n",
    "This is time series data. Are there any special considerations when creating train/test splits for time series? If so, what are they?\n",
    "\n",
    "Uncomment the following line after you've decided your answer."
   ]
  },
  {
   "cell_type": "code",
   "execution_count": 9,
   "metadata": {
    "_cell_guid": "1187e6f3-af6e-402d-ad73-48e5bdecae52",
    "_uuid": "b3769204-6228-4c07-a161-1851b85db0b8",
    "execution": {
     "iopub.execute_input": "2021-02-04T05:49:16.744672Z",
     "iopub.status.busy": "2021-02-04T05:49:16.744024Z",
     "iopub.status.idle": "2021-02-04T05:49:16.752179Z",
     "shell.execute_reply": "2021-02-04T05:49:16.751542Z"
    },
    "papermill": {
     "duration": 0.031629,
     "end_time": "2021-02-04T05:49:16.752325",
     "exception": false,
     "start_time": "2021-02-04T05:49:16.720696",
     "status": "completed"
    },
    "tags": []
   },
   "outputs": [
    {
     "data": {
      "application/javascript": [
       "parent.postMessage({\"jupyterEvent\": \"custom.exercise_interaction\", \"data\": {\"interactionType\": 3, \"questionType\": 4, \"questionId\": \"4_TrainTestSplits\", \"learnToolsVersion\": \"0.3.4\", \"valueTowardsCompletion\": 0.0, \"failureMessage\": \"\", \"exceptionClass\": \"\", \"trace\": \"\", \"outcomeType\": 4}}, \"*\")"
      ],
      "text/plain": [
       "<IPython.core.display.Javascript object>"
      ]
     },
     "metadata": {},
     "output_type": "display_data"
    },
    {
     "data": {
      "text/markdown": [
       "<span style=\"color:#33cc99\">Solution:</span> \n",
       "    Since our model is meant to predict events in the future, we must also validate the\n",
       "    model on events in the future. If the data is mixed up between the training and test \n",
       "    sets, then future data will leak in to the model and our validation results will \n",
       "    overestimate the performance on new data.\n",
       "    "
      ],
      "text/plain": [
       "Solution: \n",
       "    Since our model is meant to predict events in the future, we must also validate the\n",
       "    model on events in the future. If the data is mixed up between the training and test \n",
       "    sets, then future data will leak in to the model and our validation results will \n",
       "    overestimate the performance on new data.\n",
       "    "
      ]
     },
     "metadata": {},
     "output_type": "display_data"
    }
   ],
   "source": [
    "# Check your answer (Run this code cell to receive credit!)\n",
    "q_4.solution()"
   ]
  },
  {
   "cell_type": "markdown",
   "metadata": {
    "_cell_guid": "8d042664-ac3c-44e6-a402-07ed3141c0df",
    "_uuid": "25bf6df6-de5b-4596-8f54-716e1eb73d93",
    "papermill": {
     "duration": 0.021033,
     "end_time": "2021-02-04T05:49:16.794733",
     "exception": false,
     "start_time": "2021-02-04T05:49:16.773700",
     "status": "completed"
    },
    "tags": []
   },
   "source": [
    "### Create train/validation/test splits\n",
    "\n",
    "Here we'll create training, validation, and test splits. First, `clicks` DataFrame is sorted in order of increasing time. The first 80% of the rows are the train set, the next 10% are the validation set, and the last 10% are the test set."
   ]
  },
  {
   "cell_type": "code",
   "execution_count": 10,
   "metadata": {
    "_cell_guid": "05f032a4-38e2-4031-839d-291e6d41d2b6",
    "_uuid": "f5efaea4-7509-4bd3-a7df-e9781f9bfee4",
    "execution": {
     "iopub.execute_input": "2021-02-04T05:49:16.844091Z",
     "iopub.status.busy": "2021-02-04T05:49:16.843474Z",
     "iopub.status.idle": "2021-02-04T05:49:17.261684Z",
     "shell.execute_reply": "2021-02-04T05:49:17.261019Z"
    },
    "papermill": {
     "duration": 0.446171,
     "end_time": "2021-02-04T05:49:17.261825",
     "exception": false,
     "start_time": "2021-02-04T05:49:16.815654",
     "status": "completed"
    },
    "tags": []
   },
   "outputs": [],
   "source": [
    "feature_cols = ['day', 'hour', 'minute', 'second', \n",
    "                'ip_labels', 'app_labels', 'device_labels',\n",
    "                'os_labels', 'channel_labels']\n",
    "\n",
    "valid_fraction = 0.1\n",
    "clicks_srt = clicks.sort_values('click_time')\n",
    "valid_rows = int(len(clicks_srt) * valid_fraction)\n",
    "train = clicks_srt[:-valid_rows * 2]\n",
    "# valid size == test size, last two sections of the data\n",
    "valid = clicks_srt[-valid_rows * 2:-valid_rows]\n",
    "test = clicks_srt[-valid_rows:]"
   ]
  },
  {
   "cell_type": "markdown",
   "metadata": {
    "_cell_guid": "ed1abbdc-0e54-4009-be0a-8f13f06edbc3",
    "_uuid": "876573c9-75fe-4184-b501-d4ac96852340",
    "papermill": {
     "duration": 0.021315,
     "end_time": "2021-02-04T05:49:17.305220",
     "exception": false,
     "start_time": "2021-02-04T05:49:17.283905",
     "status": "completed"
    },
    "tags": []
   },
   "source": [
    "### Train with LightGBM\n",
    "\n",
    "Now we can create LightGBM dataset objects for each of the smaller datasets and train the baseline model."
   ]
  },
  {
   "cell_type": "code",
   "execution_count": 11,
   "metadata": {
    "_cell_guid": "bfa92cd2-8027-4de8-851b-d1bab5dfd58e",
    "_uuid": "5e2dde7e-14b9-4893-8912-9dd61a3e5da0",
    "execution": {
     "iopub.execute_input": "2021-02-04T05:49:17.363267Z",
     "iopub.status.busy": "2021-02-04T05:49:17.362562Z",
     "iopub.status.idle": "2021-02-04T05:50:06.546571Z",
     "shell.execute_reply": "2021-02-04T05:50:06.547739Z"
    },
    "papermill": {
     "duration": 49.215359,
     "end_time": "2021-02-04T05:50:06.548012",
     "exception": false,
     "start_time": "2021-02-04T05:49:17.332653",
     "status": "completed"
    },
    "tags": []
   },
   "outputs": [
    {
     "data": {
      "text/html": [
       "<style type='text/css'>\n",
       ".datatable table.frame { margin-bottom: 0; }\n",
       ".datatable table.frame thead { border-bottom: none; }\n",
       ".datatable table.frame tr.coltypes td {  color: #FFFFFF;  line-height: 6px;  padding: 0 0.5em;}\n",
       ".datatable .bool    { background: #DDDD99; }\n",
       ".datatable .object  { background: #565656; }\n",
       ".datatable .int     { background: #5D9E5D; }\n",
       ".datatable .float   { background: #4040CC; }\n",
       ".datatable .str     { background: #CC4040; }\n",
       ".datatable .row_index {  background: var(--jp-border-color3);  border-right: 1px solid var(--jp-border-color0);  color: var(--jp-ui-font-color3);  font-size: 9px;}\n",
       ".datatable .frame tr.coltypes .row_index {  background: var(--jp-border-color0);}\n",
       ".datatable th:nth-child(2) { padding-left: 12px; }\n",
       ".datatable .hellipsis {  color: var(--jp-cell-editor-border-color);}\n",
       ".datatable .vellipsis {  background: var(--jp-layout-color0);  color: var(--jp-cell-editor-border-color);}\n",
       ".datatable .na {  color: var(--jp-cell-editor-border-color);  font-size: 80%;}\n",
       ".datatable .footer { font-size: 9px; }\n",
       ".datatable .frame_dimensions {  background: var(--jp-border-color3);  border-top: 1px solid var(--jp-border-color0);  color: var(--jp-ui-font-color3);  display: inline-block;  opacity: 0.6;  padding: 1px 10px 1px 5px;}\n",
       "</style>\n"
      ],
      "text/plain": [
       "<IPython.core.display.HTML object>"
      ]
     },
     "metadata": {},
     "output_type": "display_data"
    },
    {
     "name": "stdout",
     "output_type": "stream",
     "text": [
      "[LightGBM] [Info] Number of positive: 363974, number of negative: 1476475\n",
      "[LightGBM] [Warning] Auto-choosing row-wise multi-threading, the overhead of testing was 0.057805 seconds.\n",
      "You can set `force_row_wise=true` to remove the overhead.\n",
      "And if memory is not enough, you can set `force_col_wise=true`.\n",
      "[LightGBM] [Info] Total Bins 1066\n",
      "[LightGBM] [Info] Number of data points in the train set: 1840449, number of used features: 9\n",
      "[LightGBM] [Info] [binary:BoostFromScore]: pavg=0.197764 -> initscore=-1.400330\n",
      "[LightGBM] [Info] Start training from score -1.400330\n",
      "[1]\tvalid_0's auc: 0.948979\n",
      "Training until validation scores don't improve for 10 rounds\n",
      "[2]\tvalid_0's auc: 0.949235\n",
      "[3]\tvalid_0's auc: 0.950126\n",
      "[4]\tvalid_0's auc: 0.950072\n",
      "[5]\tvalid_0's auc: 0.950536\n",
      "[6]\tvalid_0's auc: 0.950943\n",
      "[7]\tvalid_0's auc: 0.951453\n",
      "[8]\tvalid_0's auc: 0.951518\n",
      "[9]\tvalid_0's auc: 0.952385\n",
      "[10]\tvalid_0's auc: 0.952434\n",
      "[11]\tvalid_0's auc: 0.952465\n",
      "[12]\tvalid_0's auc: 0.952638\n",
      "[13]\tvalid_0's auc: 0.95266\n",
      "[14]\tvalid_0's auc: 0.952766\n",
      "[15]\tvalid_0's auc: 0.953203\n",
      "[16]\tvalid_0's auc: 0.953489\n",
      "[17]\tvalid_0's auc: 0.953783\n",
      "[18]\tvalid_0's auc: 0.953952\n",
      "[19]\tvalid_0's auc: 0.954153\n",
      "[20]\tvalid_0's auc: 0.954237\n",
      "[21]\tvalid_0's auc: 0.954265\n",
      "[22]\tvalid_0's auc: 0.954394\n",
      "[23]\tvalid_0's auc: 0.954495\n",
      "[24]\tvalid_0's auc: 0.955042\n",
      "[25]\tvalid_0's auc: 0.955424\n",
      "[26]\tvalid_0's auc: 0.955618\n",
      "[27]\tvalid_0's auc: 0.955796\n",
      "[28]\tvalid_0's auc: 0.955984\n",
      "[29]\tvalid_0's auc: 0.956042\n",
      "[30]\tvalid_0's auc: 0.956424\n",
      "[31]\tvalid_0's auc: 0.956549\n",
      "[32]\tvalid_0's auc: 0.956889\n",
      "[33]\tvalid_0's auc: 0.95698\n",
      "[34]\tvalid_0's auc: 0.957245\n",
      "[35]\tvalid_0's auc: 0.957482\n",
      "[36]\tvalid_0's auc: 0.957465\n",
      "[37]\tvalid_0's auc: 0.957644\n",
      "[38]\tvalid_0's auc: 0.95775\n",
      "[39]\tvalid_0's auc: 0.957777\n",
      "[40]\tvalid_0's auc: 0.957927\n",
      "[41]\tvalid_0's auc: 0.958097\n",
      "[42]\tvalid_0's auc: 0.958212\n",
      "[43]\tvalid_0's auc: 0.958427\n",
      "[44]\tvalid_0's auc: 0.958578\n",
      "[45]\tvalid_0's auc: 0.958713\n",
      "[46]\tvalid_0's auc: 0.958783\n",
      "[47]\tvalid_0's auc: 0.958854\n",
      "[48]\tvalid_0's auc: 0.958931\n",
      "[49]\tvalid_0's auc: 0.959018\n",
      "[50]\tvalid_0's auc: 0.959096\n",
      "[51]\tvalid_0's auc: 0.959172\n",
      "[52]\tvalid_0's auc: 0.959215\n",
      "[53]\tvalid_0's auc: 0.959251\n",
      "[54]\tvalid_0's auc: 0.959311\n",
      "[55]\tvalid_0's auc: 0.959367\n",
      "[56]\tvalid_0's auc: 0.959364\n",
      "[57]\tvalid_0's auc: 0.959453\n",
      "[58]\tvalid_0's auc: 0.959486\n",
      "[59]\tvalid_0's auc: 0.959547\n",
      "[60]\tvalid_0's auc: 0.959569\n",
      "[61]\tvalid_0's auc: 0.959609\n",
      "[62]\tvalid_0's auc: 0.959684\n",
      "[63]\tvalid_0's auc: 0.95977\n",
      "[64]\tvalid_0's auc: 0.959839\n",
      "[65]\tvalid_0's auc: 0.959872\n",
      "[66]\tvalid_0's auc: 0.959911\n",
      "[67]\tvalid_0's auc: 0.95998\n",
      "[68]\tvalid_0's auc: 0.960092\n",
      "[69]\tvalid_0's auc: 0.96012\n",
      "[70]\tvalid_0's auc: 0.960152\n",
      "[71]\tvalid_0's auc: 0.960158\n",
      "[72]\tvalid_0's auc: 0.960265\n",
      "[73]\tvalid_0's auc: 0.9603\n",
      "[74]\tvalid_0's auc: 0.960325\n",
      "[75]\tvalid_0's auc: 0.960386\n",
      "[76]\tvalid_0's auc: 0.960416\n",
      "[77]\tvalid_0's auc: 0.960503\n",
      "[78]\tvalid_0's auc: 0.960525\n",
      "[79]\tvalid_0's auc: 0.960583\n",
      "[80]\tvalid_0's auc: 0.960615\n",
      "[81]\tvalid_0's auc: 0.960657\n",
      "[82]\tvalid_0's auc: 0.960704\n",
      "[83]\tvalid_0's auc: 0.960728\n",
      "[84]\tvalid_0's auc: 0.960817\n",
      "[85]\tvalid_0's auc: 0.960845\n",
      "[86]\tvalid_0's auc: 0.960845\n",
      "[87]\tvalid_0's auc: 0.960859\n",
      "[88]\tvalid_0's auc: 0.960904\n",
      "[89]\tvalid_0's auc: 0.960944\n",
      "[90]\tvalid_0's auc: 0.960967\n",
      "[91]\tvalid_0's auc: 0.960983\n",
      "[92]\tvalid_0's auc: 0.961012\n",
      "[93]\tvalid_0's auc: 0.96103\n",
      "[94]\tvalid_0's auc: 0.961062\n",
      "[95]\tvalid_0's auc: 0.961118\n",
      "[96]\tvalid_0's auc: 0.961124\n",
      "[97]\tvalid_0's auc: 0.961132\n",
      "[98]\tvalid_0's auc: 0.961132\n",
      "[99]\tvalid_0's auc: 0.961169\n",
      "[100]\tvalid_0's auc: 0.961209\n",
      "[101]\tvalid_0's auc: 0.96122\n",
      "[102]\tvalid_0's auc: 0.961252\n",
      "[103]\tvalid_0's auc: 0.961281\n",
      "[104]\tvalid_0's auc: 0.96131\n",
      "[105]\tvalid_0's auc: 0.961322\n",
      "[106]\tvalid_0's auc: 0.961353\n",
      "[107]\tvalid_0's auc: 0.961353\n",
      "[108]\tvalid_0's auc: 0.96137\n",
      "[109]\tvalid_0's auc: 0.961373\n",
      "[110]\tvalid_0's auc: 0.961394\n",
      "[111]\tvalid_0's auc: 0.961435\n",
      "[112]\tvalid_0's auc: 0.961469\n",
      "[113]\tvalid_0's auc: 0.961472\n",
      "[114]\tvalid_0's auc: 0.96148\n",
      "[115]\tvalid_0's auc: 0.96149\n",
      "[116]\tvalid_0's auc: 0.961495\n",
      "[117]\tvalid_0's auc: 0.961498\n",
      "[118]\tvalid_0's auc: 0.961499\n",
      "[119]\tvalid_0's auc: 0.961505\n",
      "[120]\tvalid_0's auc: 0.961493\n",
      "[121]\tvalid_0's auc: 0.961494\n",
      "[122]\tvalid_0's auc: 0.961501\n",
      "[123]\tvalid_0's auc: 0.961514\n",
      "[124]\tvalid_0's auc: 0.961523\n",
      "[125]\tvalid_0's auc: 0.961533\n",
      "[126]\tvalid_0's auc: 0.961536\n",
      "[127]\tvalid_0's auc: 0.96154\n",
      "[128]\tvalid_0's auc: 0.961537\n",
      "[129]\tvalid_0's auc: 0.961537\n",
      "[130]\tvalid_0's auc: 0.961552\n",
      "[131]\tvalid_0's auc: 0.961555\n",
      "[132]\tvalid_0's auc: 0.961563\n",
      "[133]\tvalid_0's auc: 0.961586\n",
      "[134]\tvalid_0's auc: 0.961615\n",
      "[135]\tvalid_0's auc: 0.961615\n",
      "[136]\tvalid_0's auc: 0.961619\n",
      "[137]\tvalid_0's auc: 0.961619\n",
      "[138]\tvalid_0's auc: 0.961635\n",
      "[139]\tvalid_0's auc: 0.961641\n",
      "[140]\tvalid_0's auc: 0.961637\n",
      "[141]\tvalid_0's auc: 0.961635\n",
      "[142]\tvalid_0's auc: 0.961635\n",
      "[143]\tvalid_0's auc: 0.961635\n",
      "[144]\tvalid_0's auc: 0.96164\n",
      "[145]\tvalid_0's auc: 0.961637\n",
      "[146]\tvalid_0's auc: 0.961654\n",
      "[147]\tvalid_0's auc: 0.961654\n",
      "[148]\tvalid_0's auc: 0.961657\n",
      "[149]\tvalid_0's auc: 0.961666\n",
      "[150]\tvalid_0's auc: 0.961694\n",
      "[151]\tvalid_0's auc: 0.9617\n",
      "[152]\tvalid_0's auc: 0.961706\n",
      "[153]\tvalid_0's auc: 0.961726\n",
      "[154]\tvalid_0's auc: 0.96175\n",
      "[155]\tvalid_0's auc: 0.961769\n",
      "[156]\tvalid_0's auc: 0.96178\n",
      "[157]\tvalid_0's auc: 0.96178\n",
      "[158]\tvalid_0's auc: 0.961808\n",
      "[159]\tvalid_0's auc: 0.961809\n",
      "[160]\tvalid_0's auc: 0.96181\n",
      "[161]\tvalid_0's auc: 0.961815\n",
      "[162]\tvalid_0's auc: 0.961818\n",
      "[163]\tvalid_0's auc: 0.961818\n",
      "[164]\tvalid_0's auc: 0.961834\n",
      "[165]\tvalid_0's auc: 0.961841\n",
      "[166]\tvalid_0's auc: 0.961841\n",
      "[167]\tvalid_0's auc: 0.961838\n",
      "[168]\tvalid_0's auc: 0.961848\n",
      "[169]\tvalid_0's auc: 0.961854\n",
      "[170]\tvalid_0's auc: 0.961887\n",
      "[171]\tvalid_0's auc: 0.961856\n",
      "[172]\tvalid_0's auc: 0.961867\n",
      "[173]\tvalid_0's auc: 0.961867\n",
      "[174]\tvalid_0's auc: 0.96189\n",
      "[175]\tvalid_0's auc: 0.96189\n",
      "[176]\tvalid_0's auc: 0.961892\n",
      "[177]\tvalid_0's auc: 0.961892\n",
      "[178]\tvalid_0's auc: 0.961896\n",
      "[179]\tvalid_0's auc: 0.961896\n",
      "[180]\tvalid_0's auc: 0.961896\n",
      "[181]\tvalid_0's auc: 0.961906\n",
      "[182]\tvalid_0's auc: 0.961908\n",
      "[183]\tvalid_0's auc: 0.96191\n",
      "[184]\tvalid_0's auc: 0.961925\n",
      "[185]\tvalid_0's auc: 0.961949\n",
      "[186]\tvalid_0's auc: 0.961948\n",
      "[187]\tvalid_0's auc: 0.961943\n",
      "[188]\tvalid_0's auc: 0.961953\n",
      "[189]\tvalid_0's auc: 0.96195\n",
      "[190]\tvalid_0's auc: 0.961965\n",
      "[191]\tvalid_0's auc: 0.961965\n",
      "[192]\tvalid_0's auc: 0.961971\n",
      "[193]\tvalid_0's auc: 0.961982\n",
      "[194]\tvalid_0's auc: 0.962004\n",
      "[195]\tvalid_0's auc: 0.962016\n",
      "[196]\tvalid_0's auc: 0.962033\n",
      "[197]\tvalid_0's auc: 0.962041\n",
      "[198]\tvalid_0's auc: 0.962035\n",
      "[199]\tvalid_0's auc: 0.962036\n",
      "[200]\tvalid_0's auc: 0.962045\n",
      "[201]\tvalid_0's auc: 0.962043\n",
      "[202]\tvalid_0's auc: 0.962042\n",
      "[203]\tvalid_0's auc: 0.96205\n",
      "[204]\tvalid_0's auc: 0.96205\n",
      "[205]\tvalid_0's auc: 0.962051\n",
      "[206]\tvalid_0's auc: 0.962053\n",
      "[207]\tvalid_0's auc: 0.96207\n",
      "[208]\tvalid_0's auc: 0.962086\n",
      "[209]\tvalid_0's auc: 0.962093\n",
      "[210]\tvalid_0's auc: 0.962121\n",
      "[211]\tvalid_0's auc: 0.962122\n",
      "[212]\tvalid_0's auc: 0.962122\n",
      "[213]\tvalid_0's auc: 0.962126\n",
      "[214]\tvalid_0's auc: 0.962124\n",
      "[215]\tvalid_0's auc: 0.962135\n",
      "[216]\tvalid_0's auc: 0.962139\n",
      "[217]\tvalid_0's auc: 0.962139\n",
      "[218]\tvalid_0's auc: 0.962138\n",
      "[219]\tvalid_0's auc: 0.96216\n",
      "[220]\tvalid_0's auc: 0.962161\n",
      "[221]\tvalid_0's auc: 0.962173\n",
      "[222]\tvalid_0's auc: 0.962186\n",
      "[223]\tvalid_0's auc: 0.962185\n",
      "[224]\tvalid_0's auc: 0.962186\n",
      "[225]\tvalid_0's auc: 0.962186\n",
      "[226]\tvalid_0's auc: 0.962192\n",
      "[227]\tvalid_0's auc: 0.9622\n",
      "[228]\tvalid_0's auc: 0.962208\n",
      "[229]\tvalid_0's auc: 0.962209\n",
      "[230]\tvalid_0's auc: 0.962223\n",
      "[231]\tvalid_0's auc: 0.962226\n",
      "[232]\tvalid_0's auc: 0.96224\n",
      "[233]\tvalid_0's auc: 0.962238\n",
      "[234]\tvalid_0's auc: 0.962253\n",
      "[235]\tvalid_0's auc: 0.962261\n",
      "[236]\tvalid_0's auc: 0.96226\n",
      "[237]\tvalid_0's auc: 0.962257\n",
      "[238]\tvalid_0's auc: 0.962259\n",
      "[239]\tvalid_0's auc: 0.96226\n",
      "[240]\tvalid_0's auc: 0.96226\n",
      "[241]\tvalid_0's auc: 0.962265\n",
      "[242]\tvalid_0's auc: 0.96226\n",
      "[243]\tvalid_0's auc: 0.962259\n",
      "[244]\tvalid_0's auc: 0.962258\n",
      "[245]\tvalid_0's auc: 0.962258\n",
      "[246]\tvalid_0's auc: 0.962258\n",
      "[247]\tvalid_0's auc: 0.962259\n",
      "[248]\tvalid_0's auc: 0.96226\n",
      "[249]\tvalid_0's auc: 0.962261\n",
      "[250]\tvalid_0's auc: 0.962261\n",
      "[251]\tvalid_0's auc: 0.962268\n",
      "[252]\tvalid_0's auc: 0.962269\n",
      "[253]\tvalid_0's auc: 0.962272\n",
      "[254]\tvalid_0's auc: 0.962277\n",
      "[255]\tvalid_0's auc: 0.962291\n",
      "[256]\tvalid_0's auc: 0.962291\n",
      "[257]\tvalid_0's auc: 0.962292\n",
      "[258]\tvalid_0's auc: 0.962312\n",
      "[259]\tvalid_0's auc: 0.96231\n",
      "[260]\tvalid_0's auc: 0.962318\n",
      "[261]\tvalid_0's auc: 0.962318\n",
      "[262]\tvalid_0's auc: 0.962319\n",
      "[263]\tvalid_0's auc: 0.962323\n",
      "[264]\tvalid_0's auc: 0.962323\n",
      "[265]\tvalid_0's auc: 0.962318\n",
      "[266]\tvalid_0's auc: 0.962324\n",
      "[267]\tvalid_0's auc: 0.96232\n",
      "[268]\tvalid_0's auc: 0.962323\n",
      "[269]\tvalid_0's auc: 0.962334\n",
      "[270]\tvalid_0's auc: 0.962334\n",
      "[271]\tvalid_0's auc: 0.962333\n",
      "[272]\tvalid_0's auc: 0.962334\n",
      "[273]\tvalid_0's auc: 0.962333\n",
      "[274]\tvalid_0's auc: 0.962334\n",
      "[275]\tvalid_0's auc: 0.962334\n",
      "[276]\tvalid_0's auc: 0.962323\n",
      "[277]\tvalid_0's auc: 0.962323\n",
      "[278]\tvalid_0's auc: 0.962328\n",
      "[279]\tvalid_0's auc: 0.962332\n",
      "[280]\tvalid_0's auc: 0.962338\n",
      "[281]\tvalid_0's auc: 0.962345\n",
      "[282]\tvalid_0's auc: 0.962347\n",
      "[283]\tvalid_0's auc: 0.962346\n",
      "[284]\tvalid_0's auc: 0.962347\n",
      "[285]\tvalid_0's auc: 0.962357\n",
      "[286]\tvalid_0's auc: 0.962352\n",
      "[287]\tvalid_0's auc: 0.962354\n",
      "[288]\tvalid_0's auc: 0.962357\n",
      "[289]\tvalid_0's auc: 0.962365\n",
      "[290]\tvalid_0's auc: 0.962368\n",
      "[291]\tvalid_0's auc: 0.96237\n",
      "[292]\tvalid_0's auc: 0.962372\n",
      "[293]\tvalid_0's auc: 0.962376\n",
      "[294]\tvalid_0's auc: 0.962376\n",
      "[295]\tvalid_0's auc: 0.962375\n",
      "[296]\tvalid_0's auc: 0.962374\n",
      "[297]\tvalid_0's auc: 0.962375\n",
      "[298]\tvalid_0's auc: 0.962377\n",
      "[299]\tvalid_0's auc: 0.962384\n",
      "[300]\tvalid_0's auc: 0.962382\n",
      "[301]\tvalid_0's auc: 0.96238\n",
      "[302]\tvalid_0's auc: 0.962375\n",
      "[303]\tvalid_0's auc: 0.962378\n",
      "[304]\tvalid_0's auc: 0.96238\n",
      "[305]\tvalid_0's auc: 0.962382\n",
      "[306]\tvalid_0's auc: 0.962381\n",
      "[307]\tvalid_0's auc: 0.96238\n",
      "[308]\tvalid_0's auc: 0.962385\n",
      "[309]\tvalid_0's auc: 0.962391\n",
      "[310]\tvalid_0's auc: 0.962393\n",
      "[311]\tvalid_0's auc: 0.962402\n",
      "[312]\tvalid_0's auc: 0.962412\n",
      "[313]\tvalid_0's auc: 0.962414\n",
      "[314]\tvalid_0's auc: 0.962421\n",
      "[315]\tvalid_0's auc: 0.962423\n",
      "[316]\tvalid_0's auc: 0.962425\n",
      "[317]\tvalid_0's auc: 0.962434\n",
      "[318]\tvalid_0's auc: 0.962438\n",
      "[319]\tvalid_0's auc: 0.962439\n",
      "[320]\tvalid_0's auc: 0.962438\n",
      "[321]\tvalid_0's auc: 0.962442\n",
      "[322]\tvalid_0's auc: 0.962439\n",
      "[323]\tvalid_0's auc: 0.962449\n",
      "[324]\tvalid_0's auc: 0.962459\n",
      "[325]\tvalid_0's auc: 0.962459\n",
      "[326]\tvalid_0's auc: 0.962457\n",
      "[327]\tvalid_0's auc: 0.962459\n",
      "[328]\tvalid_0's auc: 0.962459\n",
      "[329]\tvalid_0's auc: 0.962459\n",
      "[330]\tvalid_0's auc: 0.962462\n",
      "[331]\tvalid_0's auc: 0.962462\n",
      "[332]\tvalid_0's auc: 0.962463\n",
      "[333]\tvalid_0's auc: 0.962463\n",
      "[334]\tvalid_0's auc: 0.962468\n",
      "[335]\tvalid_0's auc: 0.962469\n",
      "[336]\tvalid_0's auc: 0.962474\n",
      "[337]\tvalid_0's auc: 0.962474\n",
      "[338]\tvalid_0's auc: 0.962482\n",
      "[339]\tvalid_0's auc: 0.962484\n",
      "[340]\tvalid_0's auc: 0.962488\n",
      "[341]\tvalid_0's auc: 0.96249\n",
      "[342]\tvalid_0's auc: 0.962493\n",
      "[343]\tvalid_0's auc: 0.962491\n",
      "[344]\tvalid_0's auc: 0.962494\n",
      "[345]\tvalid_0's auc: 0.962488\n",
      "[346]\tvalid_0's auc: 0.962493\n",
      "[347]\tvalid_0's auc: 0.962498\n",
      "[348]\tvalid_0's auc: 0.962496\n",
      "[349]\tvalid_0's auc: 0.962493\n",
      "[350]\tvalid_0's auc: 0.962488\n",
      "[351]\tvalid_0's auc: 0.962488\n",
      "[352]\tvalid_0's auc: 0.962486\n",
      "[353]\tvalid_0's auc: 0.962487\n",
      "[354]\tvalid_0's auc: 0.962481\n",
      "[355]\tvalid_0's auc: 0.962487\n",
      "[356]\tvalid_0's auc: 0.962487\n",
      "[357]\tvalid_0's auc: 0.962487\n",
      "Early stopping, best iteration is:\n",
      "[347]\tvalid_0's auc: 0.962498\n"
     ]
    }
   ],
   "source": [
    "import lightgbm as lgb\n",
    "\n",
    "dtrain = lgb.Dataset(train[feature_cols], label=train['is_attributed'])\n",
    "dvalid = lgb.Dataset(valid[feature_cols], label=valid['is_attributed'])\n",
    "dtest = lgb.Dataset(test[feature_cols], label=test['is_attributed'])\n",
    "\n",
    "param = {'num_leaves': 64, 'objective': 'binary'}\n",
    "param['metric'] = 'auc'\n",
    "num_round = 1000\n",
    "bst = lgb.train(param, dtrain, num_round, valid_sets=[dvalid], early_stopping_rounds=10)"
   ]
  },
  {
   "cell_type": "markdown",
   "metadata": {
    "_cell_guid": "2f6e352e-b661-4f80-9ec9-e1862dca4145",
    "_uuid": "64d2b851-8180-4558-8ef3-9a2004528299",
    "papermill": {
     "duration": 0.055683,
     "end_time": "2021-02-04T05:50:06.660807",
     "exception": false,
     "start_time": "2021-02-04T05:50:06.605124",
     "status": "completed"
    },
    "tags": []
   },
   "source": [
    "## Evaluate the model\n",
    "Finally, with the model trained, we evaluate its performance on the test set."
   ]
  },
  {
   "cell_type": "code",
   "execution_count": 12,
   "metadata": {
    "_cell_guid": "a0d26483-a878-4bf0-b30a-8c925dda2065",
    "_uuid": "c1e88dfc-5ef0-403e-99fd-9ebc9c30a0f1",
    "execution": {
     "iopub.execute_input": "2021-02-04T05:50:06.779895Z",
     "iopub.status.busy": "2021-02-04T05:50:06.779248Z",
     "iopub.status.idle": "2021-02-04T05:50:08.919819Z",
     "shell.execute_reply": "2021-02-04T05:50:08.919228Z"
    },
    "papermill": {
     "duration": 2.20327,
     "end_time": "2021-02-04T05:50:08.920002",
     "exception": false,
     "start_time": "2021-02-04T05:50:06.716732",
     "status": "completed"
    },
    "tags": []
   },
   "outputs": [
    {
     "name": "stdout",
     "output_type": "stream",
     "text": [
      "Test score: 0.9728934889952952\n"
     ]
    }
   ],
   "source": [
    "from sklearn import metrics\n",
    "\n",
    "ypred = bst.predict(test[feature_cols])\n",
    "score = metrics.roc_auc_score(test['is_attributed'], ypred)\n",
    "print(f\"Test score: {score}\")"
   ]
  },
  {
   "cell_type": "markdown",
   "metadata": {
    "_cell_guid": "e32660d3-7dcd-4a9b-8b3f-a842144d575b",
    "_uuid": "bf81a334-7cc1-49fb-afbe-7357dde39a64",
    "papermill": {
     "duration": 0.080372,
     "end_time": "2021-02-04T05:50:09.080743",
     "exception": false,
     "start_time": "2021-02-04T05:50:09.000371",
     "status": "completed"
    },
    "tags": []
   },
   "source": [
    "This will be our baseline score for the model. When we transform features, add new ones, or perform feature selection, we should be improving on this score. However, since this is the test set, we only want to look at it at the end of all our manipulations. At the very end of this course you'll look at the test score again to see if you improved on the baseline model.\n",
    "\n",
    "# Keep Going\n",
    "Now that you have a baseline model, you are ready to **[use categorical encoding techniques](https://www.kaggle.com/matleonard/categorical-encodings)** to improve it."
   ]
  },
  {
   "cell_type": "markdown",
   "metadata": {
    "_cell_guid": "0f2f7df1-f854-4229-a0d2-698ab9999da2",
    "_uuid": "0ef366f0-3fd8-4916-a9de-23aa2c5fad84",
    "papermill": {
     "duration": 0.080751,
     "end_time": "2021-02-04T05:50:09.243553",
     "exception": false,
     "start_time": "2021-02-04T05:50:09.162802",
     "status": "completed"
    },
    "tags": []
   },
   "source": [
    "---\n",
    "\n",
    "\n",
    "\n",
    "\n",
    "*Have questions or comments? Visit the [Learn Discussion forum](https://www.kaggle.com/learn-forum/161443) to chat with other Learners.*"
   ]
  }
 ],
 "metadata": {
  "kernelspec": {
   "display_name": "Python 3",
   "language": "python",
   "name": "python3"
  },
  "language_info": {
   "codemirror_mode": {
    "name": "ipython",
    "version": 3
   },
   "file_extension": ".py",
   "mimetype": "text/x-python",
   "name": "python",
   "nbconvert_exporter": "python",
   "pygments_lexer": "ipython3",
   "version": "3.7.9"
  },
  "papermill": {
   "default_parameters": {},
   "duration": 81.192227,
   "end_time": "2021-02-04T05:50:10.240270",
   "environment_variables": {},
   "exception": null,
   "input_path": "__notebook__.ipynb",
   "output_path": "__notebook__.ipynb",
   "parameters": {},
   "start_time": "2021-02-04T05:48:49.048043",
   "version": "2.2.2"
  }
 },
 "nbformat": 4,
 "nbformat_minor": 4
}
