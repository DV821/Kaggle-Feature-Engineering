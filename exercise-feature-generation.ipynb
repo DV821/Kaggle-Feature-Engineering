{
 "cells": [
  {
   "cell_type": "markdown",
   "metadata": {
    "papermill": {
     "duration": 0.017569,
     "end_time": "2021-02-05T06:56:16.708727",
     "exception": false,
     "start_time": "2021-02-05T06:56:16.691158",
     "status": "completed"
    },
    "tags": []
   },
   "source": [
    "**This notebook is an exercise in the [Feature Engineering](https://www.kaggle.com/learn/feature-engineering) course.  You can reference the tutorial at [this link](https://www.kaggle.com/matleonard/feature-generation).**\n",
    "\n",
    "---\n"
   ]
  },
  {
   "cell_type": "markdown",
   "metadata": {
    "papermill": {
     "duration": 0.015465,
     "end_time": "2021-02-05T06:56:16.740695",
     "exception": false,
     "start_time": "2021-02-05T06:56:16.725230",
     "status": "completed"
    },
    "tags": []
   },
   "source": [
    "# Introduction\n",
    "\n",
    "In this set of exercises, you'll create new features from the existing data. Again you'll compare the score lift for each new feature compared to a baseline model. First off, run the cells below to set up a baseline dataset and model."
   ]
  },
  {
   "cell_type": "code",
   "execution_count": 1,
   "metadata": {
    "execution": {
     "iopub.execute_input": "2021-02-05T06:56:16.775995Z",
     "iopub.status.busy": "2021-02-05T06:56:16.775362Z",
     "iopub.status.idle": "2021-02-05T06:57:01.369322Z",
     "shell.execute_reply": "2021-02-05T06:57:01.370067Z"
    },
    "papermill": {
     "duration": 44.614066,
     "end_time": "2021-02-05T06:57:01.370536",
     "exception": false,
     "start_time": "2021-02-05T06:56:16.756470",
     "status": "completed"
    },
    "tags": []
   },
   "outputs": [
    {
     "data": {
      "text/html": [
       "<style type='text/css'>\n",
       ".datatable table.frame { margin-bottom: 0; }\n",
       ".datatable table.frame thead { border-bottom: none; }\n",
       ".datatable table.frame tr.coltypes td {  color: #FFFFFF;  line-height: 6px;  padding: 0 0.5em;}\n",
       ".datatable .bool    { background: #DDDD99; }\n",
       ".datatable .object  { background: #565656; }\n",
       ".datatable .int     { background: #5D9E5D; }\n",
       ".datatable .float   { background: #4040CC; }\n",
       ".datatable .str     { background: #CC4040; }\n",
       ".datatable .row_index {  background: var(--jp-border-color3);  border-right: 1px solid var(--jp-border-color0);  color: var(--jp-ui-font-color3);  font-size: 9px;}\n",
       ".datatable .frame tr.coltypes .row_index {  background: var(--jp-border-color0);}\n",
       ".datatable th:nth-child(2) { padding-left: 12px; }\n",
       ".datatable .hellipsis {  color: var(--jp-cell-editor-border-color);}\n",
       ".datatable .vellipsis {  background: var(--jp-layout-color0);  color: var(--jp-cell-editor-border-color);}\n",
       ".datatable .na {  color: var(--jp-cell-editor-border-color);  font-size: 80%;}\n",
       ".datatable .footer { font-size: 9px; }\n",
       ".datatable .frame_dimensions {  background: var(--jp-border-color3);  border-top: 1px solid var(--jp-border-color0);  color: var(--jp-ui-font-color3);  display: inline-block;  opacity: 0.6;  padding: 1px 10px 1px 5px;}\n",
       "</style>\n"
      ],
      "text/plain": [
       "<IPython.core.display.HTML object>"
      ]
     },
     "metadata": {},
     "output_type": "display_data"
    },
    {
     "name": "stdout",
     "output_type": "stream",
     "text": [
      "Baseline model score\n",
      "Training model. Hold on a minute to see the validation score\n",
      "[LightGBM] [Info] Number of positive: 363974, number of negative: 1476475\n",
      "[LightGBM] [Warning] Auto-choosing row-wise multi-threading, the overhead of testing was 0.032838 seconds.\n",
      "You can set `force_row_wise=true` to remove the overhead.\n",
      "And if memory is not enough, you can set `force_col_wise=true`.\n",
      "[LightGBM] [Info] Total Bins 1039\n",
      "[LightGBM] [Info] Number of data points in the train set: 1840449, number of used features: 9\n",
      "[LightGBM] [Info] [binary:BoostFromScore]: pavg=0.197764 -> initscore=-1.400330\n",
      "[LightGBM] [Info] Start training from score -1.400330\n",
      "Validation AUC score: 0.9621485832146418\n"
     ]
    }
   ],
   "source": [
    "import numpy as np\n",
    "import pandas as pd\n",
    "from sklearn import preprocessing, metrics\n",
    "import lightgbm as lgb\n",
    "\n",
    "# Set up code checking\n",
    "from learntools.core import binder\n",
    "binder.bind(globals())\n",
    "from learntools.feature_engineering.ex3 import *\n",
    "\n",
    "# Create features from   timestamps\n",
    "click_data = pd.read_csv('../input/feature-engineering-data/train_sample.csv', \n",
    "                         parse_dates=['click_time'])\n",
    "click_times = click_data['click_time']\n",
    "clicks = click_data.assign(day=click_times.dt.day.astype('uint8'),\n",
    "                           hour=click_times.dt.hour.astype('uint8'),\n",
    "                           minute=click_times.dt.minute.astype('uint8'),\n",
    "                           second=click_times.dt.second.astype('uint8'))\n",
    "\n",
    "# Label encoding for categorical features\n",
    "cat_features = ['ip', 'app', 'device', 'os', 'channel']\n",
    "for feature in cat_features:\n",
    "    label_encoder = preprocessing.LabelEncoder()\n",
    "    clicks[feature] = label_encoder.fit_transform(clicks[feature])\n",
    "    \n",
    "def get_data_splits(dataframe, valid_fraction=0.1):\n",
    "\n",
    "    dataframe = dataframe.sort_values('click_time')\n",
    "    valid_rows = int(len(dataframe) * valid_fraction)\n",
    "    train = dataframe[:-valid_rows * 2]\n",
    "    # valid size == test size, last two sections of the data\n",
    "    valid = dataframe[-valid_rows * 2:-valid_rows]\n",
    "    test = dataframe[-valid_rows:]\n",
    "    \n",
    "    return train, valid, test\n",
    "\n",
    "def train_model(train, valid, test=None, feature_cols=None):\n",
    "    if feature_cols is None:\n",
    "        feature_cols = train.columns.drop(['click_time', 'attributed_time',\n",
    "                                           'is_attributed'])\n",
    "    dtrain = lgb.Dataset(train[feature_cols], label=train['is_attributed'])\n",
    "    dvalid = lgb.Dataset(valid[feature_cols], label=valid['is_attributed'])\n",
    "    \n",
    "    param = {'num_leaves': 64, 'objective': 'binary', \n",
    "             'metric': 'auc', 'seed': 7}\n",
    "    num_round = 1000\n",
    "    print(\"Training model. Hold on a minute to see the validation score\")\n",
    "    bst = lgb.train(param, dtrain, num_round, valid_sets=[dvalid], \n",
    "                    early_stopping_rounds=20, verbose_eval=False)\n",
    "    \n",
    "    valid_pred = bst.predict(valid[feature_cols])\n",
    "    valid_score = metrics.roc_auc_score(valid['is_attributed'], valid_pred)\n",
    "    print(f\"Validation AUC score: {valid_score}\")\n",
    "    \n",
    "    if test is not None: \n",
    "        test_pred = bst.predict(test[feature_cols])\n",
    "        test_score = metrics.roc_auc_score(test['is_attributed'], test_pred)\n",
    "        return bst, valid_score, test_score\n",
    "    else:\n",
    "        return bst, valid_score\n",
    "\n",
    "print(\"Baseline model score\")\n",
    "train, valid, test = get_data_splits(clicks)\n",
    "_ = train_model(train, valid)"
   ]
  },
  {
   "cell_type": "markdown",
   "metadata": {
    "papermill": {
     "duration": 0.017583,
     "end_time": "2021-02-05T06:57:01.406767",
     "exception": false,
     "start_time": "2021-02-05T06:57:01.389184",
     "status": "completed"
    },
    "tags": []
   },
   "source": [
    "### 1) Add interaction features\n",
    "\n",
    "Here you'll add interaction features for each pair of categorical features (ip, app, device, os, channel). The easiest way to iterate through the pairs of features is with `itertools.combinations`. For each new column, join the values as strings with an underscore, so 13 and 47 would become `\"13_47\"`. As you add the new columns to the dataset, be sure to label encode the values."
   ]
  },
  {
   "cell_type": "code",
   "execution_count": 2,
   "metadata": {
    "execution": {
     "iopub.execute_input": "2021-02-05T06:57:01.454791Z",
     "iopub.status.busy": "2021-02-05T06:57:01.452658Z",
     "iopub.status.idle": "2021-02-05T06:58:47.092015Z",
     "shell.execute_reply": "2021-02-05T06:58:47.091467Z"
    },
    "papermill": {
     "duration": 105.666957,
     "end_time": "2021-02-05T06:58:47.092176",
     "exception": false,
     "start_time": "2021-02-05T06:57:01.425219",
     "status": "completed"
    },
    "tags": []
   },
   "outputs": [
    {
     "data": {
      "application/javascript": [
       "parent.postMessage({\"jupyterEvent\": \"custom.exercise_interaction\", \"data\": {\"outcomeType\": 1, \"valueTowardsCompletion\": 0.16666666666666666, \"interactionType\": 1, \"questionType\": 2, \"questionId\": \"1_InteractionFeatures\", \"learnToolsVersion\": \"0.3.4\", \"failureMessage\": \"\", \"exceptionClass\": \"\", \"trace\": \"\"}}, \"*\")"
      ],
      "text/plain": [
       "<IPython.core.display.Javascript object>"
      ]
     },
     "metadata": {},
     "output_type": "display_data"
    },
    {
     "data": {
      "text/markdown": [
       "<span style=\"color:#33cc33\">Correct</span>"
      ],
      "text/plain": [
       "Correct"
      ]
     },
     "metadata": {},
     "output_type": "display_data"
    }
   ],
   "source": [
    "import itertools\n",
    "\n",
    "cat_features = ['ip', 'app', 'device', 'os', 'channel']\n",
    "interactions = pd.DataFrame(index=clicks.index)\n",
    "\n",
    "# Iterate through each pair of features, combine them into interaction features\n",
    "for col1, col2 in itertools.combinations(cat_features,2):\n",
    "    new_col = '_'.join([col1,col2])\n",
    "    \n",
    "    new_values = clicks[col1].map(str)+'_'+clicks[col2].map(str)\n",
    "\n",
    "    le =preprocessing.LabelEncoder()\n",
    "    interactions[new_col] = le.fit_transform(new_values)\n",
    "# Check your answer\n",
    "q_1.check()"
   ]
  },
  {
   "cell_type": "code",
   "execution_count": 3,
   "metadata": {
    "execution": {
     "iopub.execute_input": "2021-02-05T06:58:47.136811Z",
     "iopub.status.busy": "2021-02-05T06:58:47.136040Z",
     "iopub.status.idle": "2021-02-05T06:58:47.144015Z",
     "shell.execute_reply": "2021-02-05T06:58:47.143489Z"
    },
    "papermill": {
     "duration": 0.033049,
     "end_time": "2021-02-05T06:58:47.144169",
     "exception": false,
     "start_time": "2021-02-05T06:58:47.111120",
     "status": "completed"
    },
    "tags": []
   },
   "outputs": [
    {
     "data": {
      "application/javascript": [
       "parent.postMessage({\"jupyterEvent\": \"custom.exercise_interaction\", \"data\": {\"interactionType\": 3, \"questionType\": 2, \"questionId\": \"1_InteractionFeatures\", \"learnToolsVersion\": \"0.3.4\", \"valueTowardsCompletion\": 0.0, \"failureMessage\": \"\", \"exceptionClass\": \"\", \"trace\": \"\", \"outcomeType\": 4}}, \"*\")"
      ],
      "text/plain": [
       "<IPython.core.display.Javascript object>"
      ]
     },
     "metadata": {},
     "output_type": "display_data"
    },
    {
     "data": {
      "text/markdown": [
       "<span style=\"color:#33cc99\">Solution:</span> \n",
       "```python\n",
       "\n",
       "    cat_features = ['ip', 'app', 'device', 'os', 'channel']\n",
       "    interactions = pd.DataFrame(index=clicks.index)\n",
       "    for col1, col2 in itertools.combinations(cat_features, 2):\n",
       "        new_col_name = '_'.join([col1, col2])\n",
       "\n",
       "        # Convert to strings and combine\n",
       "        new_values = clicks[col1].map(str) + \"_\" + clicks[col2].map(str)\n",
       "\n",
       "        encoder = preprocessing.LabelEncoder()\n",
       "        interactions[new_col_name] = encoder.fit_transform(new_values)\n",
       "    \n",
       "```"
      ],
      "text/plain": [
       "Solution: \n",
       "```python\n",
       "\n",
       "    cat_features = ['ip', 'app', 'device', 'os', 'channel']\n",
       "    interactions = pd.DataFrame(index=clicks.index)\n",
       "    for col1, col2 in itertools.combinations(cat_features, 2):\n",
       "        new_col_name = '_'.join([col1, col2])\n",
       "\n",
       "        # Convert to strings and combine\n",
       "        new_values = clicks[col1].map(str) + \"_\" + clicks[col2].map(str)\n",
       "\n",
       "        encoder = preprocessing.LabelEncoder()\n",
       "        interactions[new_col_name] = encoder.fit_transform(new_values)\n",
       "    \n",
       "```"
      ]
     },
     "metadata": {},
     "output_type": "display_data"
    }
   ],
   "source": [
    "# Uncomment if you need some guidance\n",
    "#q_1.hint()\n",
    "q_1.solution()"
   ]
  },
  {
   "cell_type": "code",
   "execution_count": 4,
   "metadata": {
    "execution": {
     "iopub.execute_input": "2021-02-05T06:58:47.232080Z",
     "iopub.status.busy": "2021-02-05T06:58:47.229913Z",
     "iopub.status.idle": "2021-02-05T06:59:29.271222Z",
     "shell.execute_reply": "2021-02-05T06:59:29.271765Z"
    },
    "papermill": {
     "duration": 42.107637,
     "end_time": "2021-02-05T06:59:29.271949",
     "exception": false,
     "start_time": "2021-02-05T06:58:47.164312",
     "status": "completed"
    },
    "tags": []
   },
   "outputs": [
    {
     "name": "stdout",
     "output_type": "stream",
     "text": [
      "Score with interactions\n",
      "Training model. Hold on a minute to see the validation score\n",
      "[LightGBM] [Info] Number of positive: 363974, number of negative: 1476475\n",
      "[LightGBM] [Warning] Auto-choosing row-wise multi-threading, the overhead of testing was 0.057954 seconds.\n",
      "You can set `force_row_wise=true` to remove the overhead.\n",
      "And if memory is not enough, you can set `force_col_wise=true`.\n",
      "[LightGBM] [Info] Total Bins 3482\n",
      "[LightGBM] [Info] Number of data points in the train set: 1840449, number of used features: 19\n",
      "[LightGBM] [Info] [binary:BoostFromScore]: pavg=0.197764 -> initscore=-1.400330\n",
      "[LightGBM] [Info] Start training from score -1.400330\n",
      "Validation AUC score: 0.9623978529165531\n"
     ]
    }
   ],
   "source": [
    "clicks = clicks.join(interactions)\n",
    "print(\"Score with interactions\")\n",
    "train, valid, test = get_data_splits(clicks)\n",
    "_ = train_model(train, valid)"
   ]
  },
  {
   "cell_type": "markdown",
   "metadata": {
    "papermill": {
     "duration": 0.022395,
     "end_time": "2021-02-05T06:59:29.316359",
     "exception": false,
     "start_time": "2021-02-05T06:59:29.293964",
     "status": "completed"
    },
    "tags": []
   },
   "source": [
    "# Generating numerical features\n",
    "\n",
    "Adding interactions is a quick way to create more categorical features from the data. It's also effective to create new numerical features, you'll typically get a lot of improvement in the model. This takes a bit of brainstorming and experimentation to find features that work well.\n",
    "\n",
    "For these exercises I'm going to have you implement functions that operate on Pandas Series. It can take multiple minutes to run these functions on the entire data set so instead I'll provide feedback by running your function on a smaller dataset."
   ]
  },
  {
   "cell_type": "markdown",
   "metadata": {
    "papermill": {
     "duration": 0.021934,
     "end_time": "2021-02-05T06:59:29.360489",
     "exception": false,
     "start_time": "2021-02-05T06:59:29.338555",
     "status": "completed"
    },
    "tags": []
   },
   "source": [
    "### 2) Number of events in the past six hours\n",
    "\n",
    "The first feature you'll be creating is the number of events from the same IP in the last six hours. It's likely that someone who is visiting often will download the app.\n",
    "\n",
    "Implement a function `count_past_events` that takes a Series of click times (timestamps) and returns another Series with the number of events in the last six hours. **Tip:** The `rolling` method is useful for this."
   ]
  },
  {
   "cell_type": "code",
   "execution_count": 5,
   "metadata": {
    "execution": {
     "iopub.execute_input": "2021-02-05T06:59:29.413242Z",
     "iopub.status.busy": "2021-02-05T06:59:29.412554Z",
     "iopub.status.idle": "2021-02-05T06:59:29.438360Z",
     "shell.execute_reply": "2021-02-05T06:59:29.437803Z"
    },
    "papermill": {
     "duration": 0.055485,
     "end_time": "2021-02-05T06:59:29.438520",
     "exception": false,
     "start_time": "2021-02-05T06:59:29.383035",
     "status": "completed"
    },
    "tags": []
   },
   "outputs": [
    {
     "data": {
      "application/javascript": [
       "parent.postMessage({\"jupyterEvent\": \"custom.exercise_interaction\", \"data\": {\"outcomeType\": 1, \"valueTowardsCompletion\": 0.16666666666666666, \"interactionType\": 1, \"questionType\": 2, \"questionId\": \"2_PastEventsFeature\", \"learnToolsVersion\": \"0.3.4\", \"failureMessage\": \"\", \"exceptionClass\": \"\", \"trace\": \"\"}}, \"*\")"
      ],
      "text/plain": [
       "<IPython.core.display.Javascript object>"
      ]
     },
     "metadata": {},
     "output_type": "display_data"
    },
    {
     "data": {
      "text/markdown": [
       "<span style=\"color:#33cc33\">Correct</span>"
      ],
      "text/plain": [
       "Correct"
      ]
     },
     "metadata": {},
     "output_type": "display_data"
    }
   ],
   "source": [
    "def count_past_events(series):\n",
    "    series = pd.Series(series.index, index=series)\n",
    "    pastevents = series.rolling('6h').count() - 1\n",
    "    return pastevents\n",
    "\n",
    "# Check your answer\n",
    "q_2.check()"
   ]
  },
  {
   "cell_type": "code",
   "execution_count": 6,
   "metadata": {
    "execution": {
     "iopub.execute_input": "2021-02-05T06:59:29.492485Z",
     "iopub.status.busy": "2021-02-05T06:59:29.491625Z",
     "iopub.status.idle": "2021-02-05T06:59:29.498025Z",
     "shell.execute_reply": "2021-02-05T06:59:29.497285Z"
    },
    "papermill": {
     "duration": 0.035947,
     "end_time": "2021-02-05T06:59:29.498188",
     "exception": false,
     "start_time": "2021-02-05T06:59:29.462241",
     "status": "completed"
    },
    "tags": []
   },
   "outputs": [
    {
     "data": {
      "application/javascript": [
       "parent.postMessage({\"jupyterEvent\": \"custom.exercise_interaction\", \"data\": {\"interactionType\": 3, \"questionType\": 2, \"questionId\": \"2_PastEventsFeature\", \"learnToolsVersion\": \"0.3.4\", \"valueTowardsCompletion\": 0.0, \"failureMessage\": \"\", \"exceptionClass\": \"\", \"trace\": \"\", \"outcomeType\": 4}}, \"*\")"
      ],
      "text/plain": [
       "<IPython.core.display.Javascript object>"
      ]
     },
     "metadata": {},
     "output_type": "display_data"
    },
    {
     "data": {
      "text/markdown": [
       "<span style=\"color:#33cc99\">Solution:</span> \n",
       "```python\n",
       "\n",
       "    def count_past_events(series):\n",
       "        series = pd.Series(series.index, index=series)\n",
       "        # Subtract 1 so the current event isn't counted\n",
       "        past_events = series.rolling('6h').count() - 1\n",
       "        return past_events\n",
       "    \n",
       "```"
      ],
      "text/plain": [
       "Solution: \n",
       "```python\n",
       "\n",
       "    def count_past_events(series):\n",
       "        series = pd.Series(series.index, index=series)\n",
       "        # Subtract 1 so the current event isn't counted\n",
       "        past_events = series.rolling('6h').count() - 1\n",
       "        return past_events\n",
       "    \n",
       "```"
      ]
     },
     "metadata": {},
     "output_type": "display_data"
    }
   ],
   "source": [
    "# Uncomment if you need some guidance\n",
    "#q_2.hint()\n",
    "q_2.solution()"
   ]
  },
  {
   "cell_type": "markdown",
   "metadata": {
    "papermill": {
     "duration": 0.024848,
     "end_time": "2021-02-05T06:59:29.549185",
     "exception": false,
     "start_time": "2021-02-05T06:59:29.524337",
     "status": "completed"
    },
    "tags": []
   },
   "source": [
    "Because this can take a while to calculate on the full data, we'll load pre-calculated versions in the cell below to test model performance."
   ]
  },
  {
   "cell_type": "code",
   "execution_count": 7,
   "metadata": {
    "execution": {
     "iopub.execute_input": "2021-02-05T06:59:29.606149Z",
     "iopub.status.busy": "2021-02-05T06:59:29.605313Z",
     "iopub.status.idle": "2021-02-05T07:00:08.612769Z",
     "shell.execute_reply": "2021-02-05T07:00:08.613381Z"
    },
    "papermill": {
     "duration": 39.038988,
     "end_time": "2021-02-05T07:00:08.613610",
     "exception": false,
     "start_time": "2021-02-05T06:59:29.574622",
     "status": "completed"
    },
    "tags": []
   },
   "outputs": [
    {
     "name": "stdout",
     "output_type": "stream",
     "text": [
      "Training model. Hold on a minute to see the validation score\n",
      "[LightGBM] [Info] Number of positive: 363974, number of negative: 1476475\n",
      "[LightGBM] [Warning] Auto-choosing row-wise multi-threading, the overhead of testing was 0.060683 seconds.\n",
      "You can set `force_row_wise=true` to remove the overhead.\n",
      "And if memory is not enough, you can set `force_col_wise=true`.\n",
      "[LightGBM] [Info] Total Bins 3737\n",
      "[LightGBM] [Info] Number of data points in the train set: 1840449, number of used features: 20\n",
      "[LightGBM] [Info] [binary:BoostFromScore]: pavg=0.197764 -> initscore=-1.400330\n",
      "[LightGBM] [Info] Start training from score -1.400330\n",
      "Validation AUC score: 0.964994203616583\n"
     ]
    }
   ],
   "source": [
    "# Loading in from saved Parquet file\n",
    "past_events = pd.read_parquet('../input/feature-engineering-data/past_6hr_events.pqt')\n",
    "clicks['ip_past_6hr_counts'] = past_events\n",
    "\n",
    "train, valid, test = get_data_splits(clicks)\n",
    "_ = train_model(train, valid)"
   ]
  },
  {
   "cell_type": "markdown",
   "metadata": {
    "papermill": {
     "duration": 0.025957,
     "end_time": "2021-02-05T07:00:08.666118",
     "exception": false,
     "start_time": "2021-02-05T07:00:08.640161",
     "status": "completed"
    },
    "tags": []
   },
   "source": [
    "### 3) Features from future information\n",
    "\n",
    "In the last exercise you created a feature that looked at past events. You could also make features that use information from events in the future. Should you use future events or not? \n",
    "\n",
    "Run the following line after you've decided your answer."
   ]
  },
  {
   "cell_type": "code",
   "execution_count": 8,
   "metadata": {
    "execution": {
     "iopub.execute_input": "2021-02-05T07:00:08.727108Z",
     "iopub.status.busy": "2021-02-05T07:00:08.726314Z",
     "iopub.status.idle": "2021-02-05T07:00:08.730462Z",
     "shell.execute_reply": "2021-02-05T07:00:08.731014Z"
    },
    "papermill": {
     "duration": 0.036895,
     "end_time": "2021-02-05T07:00:08.731232",
     "exception": false,
     "start_time": "2021-02-05T07:00:08.694337",
     "status": "completed"
    },
    "tags": []
   },
   "outputs": [
    {
     "data": {
      "application/javascript": [
       "parent.postMessage({\"jupyterEvent\": \"custom.exercise_interaction\", \"data\": {\"interactionType\": 3, \"questionType\": 4, \"questionId\": \"3_FutureInformationQuestion\", \"learnToolsVersion\": \"0.3.4\", \"valueTowardsCompletion\": 0.0, \"failureMessage\": \"\", \"exceptionClass\": \"\", \"trace\": \"\", \"outcomeType\": 4}}, \"*\")"
      ],
      "text/plain": [
       "<IPython.core.display.Javascript object>"
      ]
     },
     "metadata": {},
     "output_type": "display_data"
    },
    {
     "data": {
      "text/markdown": [
       "<span style=\"color:#33cc99\">Solution:</span> In general, you shouldn't use information from the future. When you're using models like this in a real-world scenario you won't have data from the future. Your model's score will likely be higher when training and testing on historical data, but it will overestimate the performance on real data. I should note that using future data will improve the score on Kaggle competition test data, but avoid it when building machine learning products."
      ],
      "text/plain": [
       "Solution: In general, you shouldn't use information from the future. When you're using models like this in a real-world scenario you won't have data from the future. Your model's score will likely be higher when training and testing on historical data, but it will overestimate the performance on real data. I should note that using future data will improve the score on Kaggle competition test data, but avoid it when building machine learning products."
      ]
     },
     "metadata": {},
     "output_type": "display_data"
    }
   ],
   "source": [
    "# Check your answer (Run this code cell to receive credit!)\n",
    "q_3.solution()"
   ]
  },
  {
   "cell_type": "markdown",
   "metadata": {
    "papermill": {
     "duration": 0.027201,
     "end_time": "2021-02-05T07:00:08.787497",
     "exception": false,
     "start_time": "2021-02-05T07:00:08.760296",
     "status": "completed"
    },
    "tags": []
   },
   "source": [
    "### 4) Time since last event\n",
    "\n",
    "Implement a function `time_diff` that calculates the time since the last event in seconds from a Series of timestamps. This will be ran like so:\n",
    "\n",
    "```python\n",
    "timedeltas = clicks.groupby('ip')['click_time'].transform(time_diff)\n",
    "```"
   ]
  },
  {
   "cell_type": "code",
   "execution_count": 9,
   "metadata": {
    "execution": {
     "iopub.execute_input": "2021-02-05T07:00:08.846758Z",
     "iopub.status.busy": "2021-02-05T07:00:08.846059Z",
     "iopub.status.idle": "2021-02-05T07:00:08.862487Z",
     "shell.execute_reply": "2021-02-05T07:00:08.862992Z"
    },
    "papermill": {
     "duration": 0.047732,
     "end_time": "2021-02-05T07:00:08.863213",
     "exception": false,
     "start_time": "2021-02-05T07:00:08.815481",
     "status": "completed"
    },
    "tags": []
   },
   "outputs": [
    {
     "data": {
      "application/javascript": [
       "parent.postMessage({\"jupyterEvent\": \"custom.exercise_interaction\", \"data\": {\"outcomeType\": 1, \"valueTowardsCompletion\": 0.16666666666666666, \"interactionType\": 1, \"questionType\": 2, \"questionId\": \"4_LastEventFeature\", \"learnToolsVersion\": \"0.3.4\", \"failureMessage\": \"\", \"exceptionClass\": \"\", \"trace\": \"\"}}, \"*\")"
      ],
      "text/plain": [
       "<IPython.core.display.Javascript object>"
      ]
     },
     "metadata": {},
     "output_type": "display_data"
    },
    {
     "data": {
      "text/markdown": [
       "<span style=\"color:#33cc33\">Correct</span>"
      ],
      "text/plain": [
       "Correct"
      ]
     },
     "metadata": {},
     "output_type": "display_data"
    }
   ],
   "source": [
    "def time_diff(series):\n",
    "    \"\"\"Returns a series with the time since the last timestamp in seconds.\"\"\"\n",
    "    t_diff = series.diff().dt.total_seconds()\n",
    "    return t_diff\n",
    "\n",
    "# Check your answer\n",
    "q_4.check()"
   ]
  },
  {
   "cell_type": "code",
   "execution_count": 10,
   "metadata": {
    "execution": {
     "iopub.execute_input": "2021-02-05T07:00:08.926724Z",
     "iopub.status.busy": "2021-02-05T07:00:08.925853Z",
     "iopub.status.idle": "2021-02-05T07:00:08.932161Z",
     "shell.execute_reply": "2021-02-05T07:00:08.931495Z"
    },
    "papermill": {
     "duration": 0.040563,
     "end_time": "2021-02-05T07:00:08.932434",
     "exception": false,
     "start_time": "2021-02-05T07:00:08.891871",
     "status": "completed"
    },
    "tags": []
   },
   "outputs": [
    {
     "data": {
      "application/javascript": [
       "parent.postMessage({\"jupyterEvent\": \"custom.exercise_interaction\", \"data\": {\"interactionType\": 3, \"questionType\": 2, \"questionId\": \"4_LastEventFeature\", \"learnToolsVersion\": \"0.3.4\", \"valueTowardsCompletion\": 0.0, \"failureMessage\": \"\", \"exceptionClass\": \"\", \"trace\": \"\", \"outcomeType\": 4}}, \"*\")"
      ],
      "text/plain": [
       "<IPython.core.display.Javascript object>"
      ]
     },
     "metadata": {},
     "output_type": "display_data"
    },
    {
     "data": {
      "text/markdown": [
       "<span style=\"color:#33cc99\">Solution:</span> \n",
       "```python\n",
       "\n",
       "    def time_diff(series):\n",
       "            return series.diff().dt.total_seconds()\n",
       "    \n",
       "```"
      ],
      "text/plain": [
       "Solution: \n",
       "```python\n",
       "\n",
       "    def time_diff(series):\n",
       "            return series.diff().dt.total_seconds()\n",
       "    \n",
       "```"
      ]
     },
     "metadata": {},
     "output_type": "display_data"
    }
   ],
   "source": [
    "# Uncomment if you need some guidance\n",
    "#q_4.hint()\n",
    "q_4.solution()"
   ]
  },
  {
   "cell_type": "markdown",
   "metadata": {
    "papermill": {
     "duration": 0.029896,
     "end_time": "2021-02-05T07:00:08.992555",
     "exception": false,
     "start_time": "2021-02-05T07:00:08.962659",
     "status": "completed"
    },
    "tags": []
   },
   "source": [
    "We'll again load pre-computed versions of the data, which match what your function would return"
   ]
  },
  {
   "cell_type": "code",
   "execution_count": 11,
   "metadata": {
    "execution": {
     "iopub.execute_input": "2021-02-05T07:00:09.058736Z",
     "iopub.status.busy": "2021-02-05T07:00:09.058003Z",
     "iopub.status.idle": "2021-02-05T07:00:53.832675Z",
     "shell.execute_reply": "2021-02-05T07:00:53.833452Z"
    },
    "papermill": {
     "duration": 44.810975,
     "end_time": "2021-02-05T07:00:53.833710",
     "exception": false,
     "start_time": "2021-02-05T07:00:09.022735",
     "status": "completed"
    },
    "tags": []
   },
   "outputs": [
    {
     "name": "stdout",
     "output_type": "stream",
     "text": [
      "Training model. Hold on a minute to see the validation score\n",
      "[LightGBM] [Info] Number of positive: 363974, number of negative: 1476475\n",
      "[LightGBM] [Warning] Auto-choosing row-wise multi-threading, the overhead of testing was 0.069671 seconds.\n",
      "You can set `force_row_wise=true` to remove the overhead.\n",
      "And if memory is not enough, you can set `force_col_wise=true`.\n",
      "[LightGBM] [Info] Total Bins 4247\n",
      "[LightGBM] [Info] Number of data points in the train set: 1840449, number of used features: 22\n",
      "[LightGBM] [Info] [binary:BoostFromScore]: pavg=0.197764 -> initscore=-1.400330\n",
      "[LightGBM] [Info] Start training from score -1.400330\n",
      "Validation AUC score: 0.9650825330971673\n"
     ]
    }
   ],
   "source": [
    "# Loading in from saved Parquet file\n",
    "past_events = pd.read_parquet('../input/feature-engineering-data/time_deltas.pqt')\n",
    "clicks['past_events_6hr'] = past_events\n",
    "\n",
    "train, valid, test = get_data_splits(clicks.join(past_events))\n",
    "_ = train_model(train, valid)"
   ]
  },
  {
   "cell_type": "markdown",
   "metadata": {
    "papermill": {
     "duration": 0.030671,
     "end_time": "2021-02-05T07:00:53.896561",
     "exception": false,
     "start_time": "2021-02-05T07:00:53.865890",
     "status": "completed"
    },
    "tags": []
   },
   "source": [
    "### 5) Number of previous app downloads\n",
    "\n",
    "It's likely that if a visitor downloaded an app previously, it'll affect the likelihood they'll download one again. Implement a function `previous_attributions` that returns a Series with the number of times an app has been downloaded (`'is_attributed' == 1`) before the current event."
   ]
  },
  {
   "cell_type": "code",
   "execution_count": 12,
   "metadata": {
    "execution": {
     "iopub.execute_input": "2021-02-05T07:00:53.974082Z",
     "iopub.status.busy": "2021-02-05T07:00:53.973109Z",
     "iopub.status.idle": "2021-02-05T07:00:54.035928Z",
     "shell.execute_reply": "2021-02-05T07:00:54.036626Z"
    },
    "papermill": {
     "duration": 0.104361,
     "end_time": "2021-02-05T07:00:54.036880",
     "exception": false,
     "start_time": "2021-02-05T07:00:53.932519",
     "status": "completed"
    },
    "tags": []
   },
   "outputs": [
    {
     "data": {
      "application/javascript": [
       "parent.postMessage({\"jupyterEvent\": \"custom.exercise_interaction\", \"data\": {\"outcomeType\": 1, \"valueTowardsCompletion\": 0.16666666666666666, \"interactionType\": 1, \"questionType\": 2, \"questionId\": \"5_PreviousAttributionsFeature\", \"learnToolsVersion\": \"0.3.4\", \"failureMessage\": \"\", \"exceptionClass\": \"\", \"trace\": \"\"}}, \"*\")"
      ],
      "text/plain": [
       "<IPython.core.display.Javascript object>"
      ]
     },
     "metadata": {},
     "output_type": "display_data"
    },
    {
     "data": {
      "text/markdown": [
       "<span style=\"color:#33cc33\">Correct</span>"
      ],
      "text/plain": [
       "Correct"
      ]
     },
     "metadata": {},
     "output_type": "display_data"
    }
   ],
   "source": [
    "def previous_attributions(series):\n",
    "    \"\"\"Returns a series with the number of times an app has been downloaded.\"\"\"\n",
    "    total = series.expanding(min_periods=2).sum() - series\n",
    "    return total\n",
    "\n",
    "# Check your answer\n",
    "q_5.check()"
   ]
  },
  {
   "cell_type": "code",
   "execution_count": 13,
   "metadata": {
    "execution": {
     "iopub.execute_input": "2021-02-05T07:00:54.120026Z",
     "iopub.status.busy": "2021-02-05T07:00:54.118952Z",
     "iopub.status.idle": "2021-02-05T07:00:54.124588Z",
     "shell.execute_reply": "2021-02-05T07:00:54.125177Z"
    },
    "papermill": {
     "duration": 0.045881,
     "end_time": "2021-02-05T07:00:54.125397",
     "exception": false,
     "start_time": "2021-02-05T07:00:54.079516",
     "status": "completed"
    },
    "tags": []
   },
   "outputs": [
    {
     "data": {
      "application/javascript": [
       "parent.postMessage({\"jupyterEvent\": \"custom.exercise_interaction\", \"data\": {\"interactionType\": 3, \"questionType\": 2, \"questionId\": \"5_PreviousAttributionsFeature\", \"learnToolsVersion\": \"0.3.4\", \"valueTowardsCompletion\": 0.0, \"failureMessage\": \"\", \"exceptionClass\": \"\", \"trace\": \"\", \"outcomeType\": 4}}, \"*\")"
      ],
      "text/plain": [
       "<IPython.core.display.Javascript object>"
      ]
     },
     "metadata": {},
     "output_type": "display_data"
    },
    {
     "data": {
      "text/markdown": [
       "<span style=\"color:#33cc99\">Solution:</span> \n",
       "```python\n",
       "\n",
       "    def previous_attributions(series):\n",
       "        # Subtracting raw values so I don't count the current event\n",
       "        sums = series.expanding(min_periods=2).sum() - series\n",
       "        return sums\n",
       "    \n",
       "```"
      ],
      "text/plain": [
       "Solution: \n",
       "```python\n",
       "\n",
       "    def previous_attributions(series):\n",
       "        # Subtracting raw values so I don't count the current event\n",
       "        sums = series.expanding(min_periods=2).sum() - series\n",
       "        return sums\n",
       "    \n",
       "```"
      ]
     },
     "metadata": {},
     "output_type": "display_data"
    }
   ],
   "source": [
    "# Uncomment if you need some guidance\n",
    "#q_5.hint()\n",
    "q_5.solution()"
   ]
  },
  {
   "cell_type": "markdown",
   "metadata": {
    "papermill": {
     "duration": 0.03386,
     "end_time": "2021-02-05T07:00:54.192883",
     "exception": false,
     "start_time": "2021-02-05T07:00:54.159023",
     "status": "completed"
    },
    "tags": []
   },
   "source": [
    "Again loading pre-computed data."
   ]
  },
  {
   "cell_type": "code",
   "execution_count": 14,
   "metadata": {
    "execution": {
     "iopub.execute_input": "2021-02-05T07:00:54.266389Z",
     "iopub.status.busy": "2021-02-05T07:00:54.265324Z",
     "iopub.status.idle": "2021-02-05T07:01:38.928537Z",
     "shell.execute_reply": "2021-02-05T07:01:38.929081Z"
    },
    "papermill": {
     "duration": 44.702575,
     "end_time": "2021-02-05T07:01:38.929303",
     "exception": false,
     "start_time": "2021-02-05T07:00:54.226728",
     "status": "completed"
    },
    "tags": []
   },
   "outputs": [
    {
     "name": "stdout",
     "output_type": "stream",
     "text": [
      "Training model. Hold on a minute to see the validation score\n",
      "[LightGBM] [Info] Number of positive: 363974, number of negative: 1476475\n",
      "[LightGBM] [Warning] Auto-choosing row-wise multi-threading, the overhead of testing was 0.068845 seconds.\n",
      "You can set `force_row_wise=true` to remove the overhead.\n",
      "And if memory is not enough, you can set `force_col_wise=true`.\n",
      "[LightGBM] [Info] Total Bins 3992\n",
      "[LightGBM] [Info] Number of data points in the train set: 1840449, number of used features: 21\n",
      "[LightGBM] [Info] [binary:BoostFromScore]: pavg=0.197764 -> initscore=-1.400330\n",
      "[LightGBM] [Info] Start training from score -1.400330\n",
      "Validation AUC score: 0.9653743726163582\n"
     ]
    }
   ],
   "source": [
    "# Loading in from saved Parquet file\n",
    "past_events = pd.read_parquet('../input/feature-engineering-data/downloads.pqt')\n",
    "clicks['ip_past_6hr_counts'] = past_events\n",
    "\n",
    "train, valid, test = get_data_splits(clicks)\n",
    "_ = train_model(train, valid)"
   ]
  },
  {
   "cell_type": "markdown",
   "metadata": {
    "papermill": {
     "duration": 0.036169,
     "end_time": "2021-02-05T07:01:39.001578",
     "exception": false,
     "start_time": "2021-02-05T07:01:38.965409",
     "status": "completed"
    },
    "tags": []
   },
   "source": [
    "### 6) Tree-based vs Neural Network Models\n",
    "\n",
    "So far we've been using LightGBM, a tree-based model. Would these features we've generated work well for neural networks as well as tree-based models?\n",
    "\n",
    "Run the following line after you've decided your answer."
   ]
  },
  {
   "cell_type": "code",
   "execution_count": 15,
   "metadata": {
    "execution": {
     "iopub.execute_input": "2021-02-05T07:01:39.081590Z",
     "iopub.status.busy": "2021-02-05T07:01:39.080858Z",
     "iopub.status.idle": "2021-02-05T07:01:39.087340Z",
     "shell.execute_reply": "2021-02-05T07:01:39.086695Z"
    },
    "papermill": {
     "duration": 0.049414,
     "end_time": "2021-02-05T07:01:39.087480",
     "exception": false,
     "start_time": "2021-02-05T07:01:39.038066",
     "status": "completed"
    },
    "tags": []
   },
   "outputs": [
    {
     "data": {
      "application/javascript": [
       "parent.postMessage({\"jupyterEvent\": \"custom.exercise_interaction\", \"data\": {\"interactionType\": 3, \"questionType\": 4, \"questionId\": \"6_TreeVsDLModels\", \"learnToolsVersion\": \"0.3.4\", \"valueTowardsCompletion\": 0.0, \"failureMessage\": \"\", \"exceptionClass\": \"\", \"trace\": \"\", \"outcomeType\": 4}}, \"*\")"
      ],
      "text/plain": [
       "<IPython.core.display.Javascript object>"
      ]
     },
     "metadata": {},
     "output_type": "display_data"
    },
    {
     "data": {
      "text/markdown": [
       "<span style=\"color:#33cc99\">Solution:</span> The features themselves will work for either model. However, numerical inputs to neural networks need to be standardized first. That is, the features need to be scaled such that they have 0 mean and a standard deviation of 1. This can be done using sklearn.preprocessing.StandardScaler."
      ],
      "text/plain": [
       "Solution: The features themselves will work for either model. However, numerical inputs to neural networks need to be standardized first. That is, the features need to be scaled such that they have 0 mean and a standard deviation of 1. This can be done using sklearn.preprocessing.StandardScaler."
      ]
     },
     "metadata": {},
     "output_type": "display_data"
    }
   ],
   "source": [
    "# Check your answer (Run this code cell to receive credit!)\n",
    "q_6.solution()"
   ]
  },
  {
   "cell_type": "markdown",
   "metadata": {
    "papermill": {
     "duration": 0.035795,
     "end_time": "2021-02-05T07:01:39.159738",
     "exception": false,
     "start_time": "2021-02-05T07:01:39.123943",
     "status": "completed"
    },
    "tags": []
   },
   "source": [
    "Now that you've generated a bunch of different features, you'll typically want to remove some of them to reduce the size of the model and potentially improve the performance. Next, I'll show you how to do feature selection using a few different methods such as L1 regression and Boruta."
   ]
  },
  {
   "cell_type": "markdown",
   "metadata": {
    "papermill": {
     "duration": 0.035971,
     "end_time": "2021-02-05T07:01:39.232283",
     "exception": false,
     "start_time": "2021-02-05T07:01:39.196312",
     "status": "completed"
    },
    "tags": []
   },
   "source": [
    "# Keep Going\n",
    "\n",
    "You know how to generate a lot of features. In practice, you'll frequently want to pare them down for modeling. Learn to do that in the **[Feature Selection lesson](https://www.kaggle.com/matleonard/feature-selection)**."
   ]
  },
  {
   "cell_type": "markdown",
   "metadata": {
    "papermill": {
     "duration": 0.036475,
     "end_time": "2021-02-05T07:01:39.305360",
     "exception": false,
     "start_time": "2021-02-05T07:01:39.268885",
     "status": "completed"
    },
    "tags": []
   },
   "source": [
    "---\n",
    "\n",
    "\n",
    "\n",
    "\n",
    "*Have questions or comments? Visit the [Learn Discussion forum](https://www.kaggle.com/learn-forum/161443) to chat with other Learners.*"
   ]
  }
 ],
 "metadata": {
  "kernelspec": {
   "display_name": "Python 3",
   "language": "python",
   "name": "python3"
  },
  "language_info": {
   "codemirror_mode": {
    "name": "ipython",
    "version": 3
   },
   "file_extension": ".py",
   "mimetype": "text/x-python",
   "name": "python",
   "nbconvert_exporter": "python",
   "pygments_lexer": "ipython3",
   "version": "3.7.9"
  },
  "papermill": {
   "default_parameters": {},
   "duration": 331.091311,
   "end_time": "2021-02-05T07:01:41.329687",
   "environment_variables": {},
   "exception": null,
   "input_path": "__notebook__.ipynb",
   "output_path": "__notebook__.ipynb",
   "parameters": {},
   "start_time": "2021-02-05T06:56:10.238376",
   "version": "2.2.2"
  }
 },
 "nbformat": 4,
 "nbformat_minor": 4
}
